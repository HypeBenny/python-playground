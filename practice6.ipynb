{
 "cells": [
  {
   "cell_type": "code",
   "execution_count": 1,
   "metadata": {},
   "outputs": [],
   "source": [
    "import os"
   ]
  },
  {
   "cell_type": "code",
   "execution_count": 2,
   "metadata": {},
   "outputs": [
    {
     "data": {
      "text/plain": [
       "'c:\\\\Users\\\\Acer\\\\OneDrive\\\\Desktop\\\\intro to python\\\\lessons'"
      ]
     },
     "execution_count": 2,
     "metadata": {},
     "output_type": "execute_result"
    }
   ],
   "source": [
    "os.getcwd()"
   ]
  },
  {
   "cell_type": "code",
   "execution_count": 3,
   "metadata": {},
   "outputs": [
    {
     "data": {
      "text/plain": [
       "['activate script.png',\n",
       " 'Camera imports',\n",
       " 'Camera Roll',\n",
       " 'desktop.ini',\n",
       " 'Planet9',\n",
       " 'Saved Pictures',\n",
       " 'Screenshot 2022-06-24 171849.png',\n",
       " 'Screenshot 2022-06-24 172735.png',\n",
       " 'Screenshots']"
      ]
     },
     "execution_count": 3,
     "metadata": {},
     "output_type": "execute_result"
    }
   ],
   "source": [
    "os.listdir(\"C:\\\\Users\\Acer\\OneDrive\\Pictures\")"
   ]
  },
  {
   "cell_type": "code",
   "execution_count": 4,
   "metadata": {},
   "outputs": [],
   "source": [
    "os.makedirs(\"C:\\\\Users\\Acer\\OneDrive\\Desktop\\darko new\")"
   ]
  },
  {
   "cell_type": "code",
   "execution_count": 6,
   "metadata": {},
   "outputs": [],
   "source": [
    "from PIL import Image\n",
    "pic = Image.open(\"B:\\PHOTOS\\IMG_6307.PNG\")\n",
    "pic"
   ]
  },
  {
   "cell_type": "code",
   "execution_count": 8,
   "metadata": {},
   "outputs": [],
   "source": [
    "from urllib import request\n",
    "request.urlretrieve('download link', 'name to save on pc.extension')"
   ]
  },
  {
   "cell_type": "code",
   "execution_count": 24,
   "metadata": {},
   "outputs": [],
   "source": [
    "fileA = open(\"C:\\\\Users\\\\Acer\\Downloads\\\\autho letter.docx\", mode='r')"
   ]
  },
  {
   "cell_type": "code",
   "execution_count": 25,
   "metadata": {},
   "outputs": [
    {
     "data": {
      "text/plain": [
       "'PK\\x03\\x04\\x14\\x00\\x06\\x00\\x08\\x00<<nT¸â›\\\\c\\x01'"
      ]
     },
     "execution_count": 25,
     "metadata": {},
     "output_type": "execute_result"
    }
   ],
   "source": [
    "letter = fileA.read(20)\n",
    "letter"
   ]
  },
  {
   "cell_type": "code",
   "execution_count": 26,
   "metadata": {},
   "outputs": [],
   "source": [
    "fileA.close()"
   ]
  },
  {
   "cell_type": "code",
   "execution_count": 74,
   "metadata": {},
   "outputs": [
    {
     "name": "stdout",
     "output_type": "stream",
     "text": [
      "hey how are you?\n",
      "\n",
      "ow are you?\n",
      "\n"
     ]
    }
   ],
   "source": [
    "with open(\"C:\\\\Users\\Acer\\OneDrive\\Desktop\\practice.txt\", 'r') as idolo:\n",
    "    content = idolo.readline()\n",
    "    print(content)\n",
    "    idolo.seek(5)\n",
    "    content = idolo.readline()\n",
    "    print(content)"
   ]
  },
  {
   "cell_type": "code",
   "execution_count": 79,
   "metadata": {},
   "outputs": [],
   "source": [
    "with open(\"C:\\\\Users\\Acer\\OneDrive\\Desktop\\practice.txt\", 'a') as darko:\n",
    "    darko.seek(0)\n",
    "    darko.write('ama')\n",
    "    \n",
    "    "
   ]
  },
  {
   "cell_type": "code",
   "execution_count": 147,
   "metadata": {},
   "outputs": [],
   "source": [
    "import seaborn as sns \n",
    "import matplotlib.pyplot as plt\n",
    "import numpy as np\n",
    "import pandas as pd\n",
    "%matplotlib inline"
   ]
  },
  {
   "cell_type": "code",
   "execution_count": 194,
   "metadata": {},
   "outputs": [
    {
     "data": {
      "image/png": "[encoded data removed]",
      "text/plain": [
       "<Figure size 504x360 with 1 Axes>"
      ]
     },
     "metadata": {
      "needs_background": "light"
     },
     "output_type": "display_data"
    }
   ],
   "source": [
    "a = [200,300,400,500]\n",
    "b = [100,250,600,700]\n",
    "plt.figure(figsize=(7,5))\n",
    "plt.plot(b, color='green',linewidth=3, linestyle='--', marker='o', markerfacecolor='red', markersize=8, alpha=0.9)\n",
    "plt.plot(a)\n",
    "plt.xlabel('a list')\n",
    "plt.ylabel('b list')\n",
    "plt.title('example')\n",
    "plt.legend(['b', 'a'])\n",
    "plt.grid(True)\n"
   ]
  },
  {
   "cell_type": "code",
   "execution_count": 117,
   "metadata": {},
   "outputs": [
    {
     "data": {
      "text/html": [
       "<div>\n",
       "<style scoped>\n",
       "    .dataframe tbody tr th:only-of-type {\n",
       "        vertical-align: middle;\n",
       "    }\n",
       "\n",
       "    .dataframe tbody tr th {\n",
       "        vertical-align: top;\n",
       "    }\n",
       "\n",
       "    .dataframe thead th {\n",
       "        text-align: right;\n",
       "    }\n",
       "</style>\n",
       "<table border=\"1\" class=\"dataframe\">\n",
       "  <thead>\n",
       "    <tr style=\"text-align: right;\">\n",
       "      <th></th>\n",
       "      <th>Sales Person</th>\n",
       "      <th>Geography</th>\n",
       "      <th>Product</th>\n",
       "      <th>Amount</th>\n",
       "      <th>Units</th>\n",
       "      <th>TOTAL COST</th>\n",
       "      <th>PROFIT</th>\n",
       "      <th>Date</th>\n",
       "    </tr>\n",
       "  </thead>\n",
       "  <tbody>\n",
       "    <tr>\n",
       "      <th>0</th>\n",
       "      <td>Barr Faughny</td>\n",
       "      <td>New Zealand</td>\n",
       "      <td>50% Dark Bites</td>\n",
       "      <td>1057</td>\n",
       "      <td>54</td>\n",
       "      <td>632</td>\n",
       "      <td>425</td>\n",
       "      <td>2016-11-11</td>\n",
       "    </tr>\n",
       "    <tr>\n",
       "      <th>1</th>\n",
       "      <td>Ches Bonnell</td>\n",
       "      <td>Australia</td>\n",
       "      <td>50% Dark Bites</td>\n",
       "      <td>1281</td>\n",
       "      <td>75</td>\n",
       "      <td>878</td>\n",
       "      <td>404</td>\n",
       "      <td>2016-11-12</td>\n",
       "    </tr>\n",
       "    <tr>\n",
       "      <th>2</th>\n",
       "      <td>Ches Bonnell</td>\n",
       "      <td>India</td>\n",
       "      <td>50% Dark Bites</td>\n",
       "      <td>1932</td>\n",
       "      <td>369</td>\n",
       "      <td>4317</td>\n",
       "      <td>-2385</td>\n",
       "      <td>2016-11-13</td>\n",
       "    </tr>\n",
       "    <tr>\n",
       "      <th>3</th>\n",
       "      <td>Gunar Cockshoot</td>\n",
       "      <td>USA</td>\n",
       "      <td>50% Dark Bites</td>\n",
       "      <td>2415</td>\n",
       "      <td>255</td>\n",
       "      <td>2984</td>\n",
       "      <td>-569</td>\n",
       "      <td>2016-11-14</td>\n",
       "    </tr>\n",
       "    <tr>\n",
       "      <th>4</th>\n",
       "      <td>Oby Sorrel</td>\n",
       "      <td>USA</td>\n",
       "      <td>50% Dark Bites</td>\n",
       "      <td>3472</td>\n",
       "      <td>96</td>\n",
       "      <td>1123</td>\n",
       "      <td>2349</td>\n",
       "      <td>2016-11-15</td>\n",
       "    </tr>\n",
       "    <tr>\n",
       "      <th>...</th>\n",
       "      <td>...</td>\n",
       "      <td>...</td>\n",
       "      <td>...</td>\n",
       "      <td>...</td>\n",
       "      <td>...</td>\n",
       "      <td>...</td>\n",
       "      <td>...</td>\n",
       "      <td>...</td>\n",
       "    </tr>\n",
       "    <tr>\n",
       "      <th>295</th>\n",
       "      <td>Husein Augar</td>\n",
       "      <td>New Zealand</td>\n",
       "      <td>White Choc</td>\n",
       "      <td>4305</td>\n",
       "      <td>156</td>\n",
       "      <td>2051</td>\n",
       "      <td>2254</td>\n",
       "      <td>2017-09-02</td>\n",
       "    </tr>\n",
       "    <tr>\n",
       "      <th>296</th>\n",
       "      <td>Ram Mahesh</td>\n",
       "      <td>Canada</td>\n",
       "      <td>White Choc</td>\n",
       "      <td>5439</td>\n",
       "      <td>30</td>\n",
       "      <td>395</td>\n",
       "      <td>5045</td>\n",
       "      <td>2017-09-03</td>\n",
       "    </tr>\n",
       "    <tr>\n",
       "      <th>297</th>\n",
       "      <td>Gunar Cockshoot</td>\n",
       "      <td>India</td>\n",
       "      <td>White Choc</td>\n",
       "      <td>6300</td>\n",
       "      <td>42</td>\n",
       "      <td>552</td>\n",
       "      <td>5748</td>\n",
       "      <td>2017-09-04</td>\n",
       "    </tr>\n",
       "    <tr>\n",
       "      <th>298</th>\n",
       "      <td>Gigi Bohling</td>\n",
       "      <td>Australia</td>\n",
       "      <td>White Choc</td>\n",
       "      <td>7483</td>\n",
       "      <td>45</td>\n",
       "      <td>592</td>\n",
       "      <td>6891</td>\n",
       "      <td>2017-09-05</td>\n",
       "    </tr>\n",
       "    <tr>\n",
       "      <th>299</th>\n",
       "      <td>Gigi Bohling</td>\n",
       "      <td>New Zealand</td>\n",
       "      <td>White Choc</td>\n",
       "      <td>8813</td>\n",
       "      <td>21</td>\n",
       "      <td>276</td>\n",
       "      <td>8537</td>\n",
       "      <td>2017-09-06</td>\n",
       "    </tr>\n",
       "  </tbody>\n",
       "</table>\n",
       "<p>300 rows × 8 columns</p>\n",
       "</div>"
      ],
      "text/plain": [
       "        Sales Person    Geography         Product  Amount  Units TOTAL COST  \\\n",
       "0       Barr Faughny  New Zealand  50% Dark Bites    1057     54        632   \n",
       "1       Ches Bonnell    Australia  50% Dark Bites    1281     75        878   \n",
       "2       Ches Bonnell        India  50% Dark Bites    1932    369       4317   \n",
       "3    Gunar Cockshoot          USA  50% Dark Bites    2415    255       2984   \n",
       "4         Oby Sorrel          USA  50% Dark Bites    3472     96       1123   \n",
       "..               ...          ...             ...     ...    ...        ...   \n",
       "295     Husein Augar  New Zealand      White Choc    4305    156       2051   \n",
       "296       Ram Mahesh       Canada      White Choc    5439     30        395   \n",
       "297  Gunar Cockshoot        India      White Choc    6300     42        552   \n",
       "298     Gigi Bohling    Australia      White Choc    7483     45        592   \n",
       "299     Gigi Bohling  New Zealand      White Choc    8813     21        276   \n",
       "\n",
       "     PROFIT       Date  \n",
       "0       425 2016-11-11  \n",
       "1       404 2016-11-12  \n",
       "2     -2385 2016-11-13  \n",
       "3      -569 2016-11-14  \n",
       "4      2349 2016-11-15  \n",
       "..      ...        ...  \n",
       "295    2254 2017-09-02  \n",
       "296    5045 2017-09-03  \n",
       "297    5748 2017-09-04  \n",
       "298    6891 2017-09-05  \n",
       "299    8537 2017-09-06  \n",
       "\n",
       "[300 rows x 8 columns]"
      ]
     },
     "execution_count": 117,
     "metadata": {},
     "output_type": "execute_result"
    }
   ],
   "source": [
    "newdata = pd.read_excel(\"C:\\\\Users\\\\Acer\\\\Downloads\\\\benny sales data.xlsx\")\n",
    "newdata"
   ]
  },
  {
   "cell_type": "code",
   "execution_count": 120,
   "metadata": {},
   "outputs": [
    {
     "data": {
      "text/plain": [
       "0     2016-11-11\n",
       "1     2016-11-12\n",
       "2     2016-11-13\n",
       "3     2016-11-14\n",
       "4     2016-11-15\n",
       "         ...    \n",
       "295   2017-09-02\n",
       "296   2017-09-03\n",
       "297   2017-09-04\n",
       "298   2017-09-05\n",
       "299   2017-09-06\n",
       "Name: Date, Length: 300, dtype: datetime64[ns]"
      ]
     },
     "execution_count": 120,
     "metadata": {},
     "output_type": "execute_result"
    }
   ],
   "source": [
    "pd.to_datetime(newdata.Date)"
   ]
  },
  {
   "cell_type": "code",
   "execution_count": 124,
   "metadata": {},
   "outputs": [],
   "source": [
    "month = pd.DatetimeIndex(newdata.Date).month\n",
    "weekday = pd.DatetimeIndex(newdata.Date).weekday\n",
    "newdata['month'] = month\n",
    "newdata['weekday'] = weekday"
   ]
  },
  {
   "cell_type": "code",
   "execution_count": 163,
   "metadata": {},
   "outputs": [
    {
     "name": "stdout",
     "output_type": "stream",
     "text": [
      "<class 'pandas.core.frame.DataFrame'>\n",
      "RangeIndex: 300 entries, 0 to 299\n",
      "Data columns (total 10 columns):\n",
      " #   Column        Non-Null Count  Dtype         \n",
      "---  ------        --------------  -----         \n",
      " 0   Sales Person  300 non-null    object        \n",
      " 1   Geography     300 non-null    object        \n",
      " 2   Product       300 non-null    object        \n",
      " 3   Amount        300 non-null    int64         \n",
      " 4   Units         300 non-null    int64         \n",
      " 5   TOTAL COST    300 non-null    object        \n",
      " 6   PROFIT        300 non-null    int64         \n",
      " 7   Date          300 non-null    datetime64[ns]\n",
      " 8   month         300 non-null    int64         \n",
      " 9   weekday       300 non-null    int64         \n",
      "dtypes: datetime64[ns](1), int64(5), object(4)\n",
      "memory usage: 23.6+ KB\n"
     ]
    }
   ],
   "source": [
    "newdata.info()"
   ]
  },
  {
   "cell_type": "code",
   "execution_count": 164,
   "metadata": {},
   "outputs": [
    {
     "data": {
      "text/html": [
       "<div>\n",
       "<style scoped>\n",
       "    .dataframe tbody tr th:only-of-type {\n",
       "        vertical-align: middle;\n",
       "    }\n",
       "\n",
       "    .dataframe tbody tr th {\n",
       "        vertical-align: top;\n",
       "    }\n",
       "\n",
       "    .dataframe thead th {\n",
       "        text-align: right;\n",
       "    }\n",
       "</style>\n",
       "<table border=\"1\" class=\"dataframe\">\n",
       "  <thead>\n",
       "    <tr style=\"text-align: right;\">\n",
       "      <th></th>\n",
       "      <th>Sales Person</th>\n",
       "      <th>Geography</th>\n",
       "      <th>Product</th>\n",
       "      <th>Amount</th>\n",
       "      <th>Units</th>\n",
       "      <th>TOTAL COST</th>\n",
       "      <th>PROFIT</th>\n",
       "      <th>Date</th>\n",
       "      <th>month</th>\n",
       "      <th>weekday</th>\n",
       "    </tr>\n",
       "  </thead>\n",
       "  <tbody>\n",
       "    <tr>\n",
       "      <th>80</th>\n",
       "      <td>Brien Boise</td>\n",
       "      <td>UK</td>\n",
       "      <td>Baker's Choco Chips</td>\n",
       "      <td>1561</td>\n",
       "      <td>27</td>\n",
       "      <td>151</td>\n",
       "      <td>1410</td>\n",
       "      <td>2017-01-30</td>\n",
       "      <td>1</td>\n",
       "      <td>0</td>\n",
       "    </tr>\n",
       "    <tr>\n",
       "      <th>81</th>\n",
       "      <td>Carla Molina</td>\n",
       "      <td>New Zealand</td>\n",
       "      <td>Baker's Choco Chips</td>\n",
       "      <td>2324</td>\n",
       "      <td>177</td>\n",
       "      <td>991</td>\n",
       "      <td>1333</td>\n",
       "      <td>2017-01-31</td>\n",
       "      <td>1</td>\n",
       "      <td>1</td>\n",
       "    </tr>\n",
       "    <tr>\n",
       "      <th>82</th>\n",
       "      <td>Husein Augar</td>\n",
       "      <td>Australia</td>\n",
       "      <td>Baker's Choco Chips</td>\n",
       "      <td>2436</td>\n",
       "      <td>99</td>\n",
       "      <td>554</td>\n",
       "      <td>1882</td>\n",
       "      <td>2017-02-01</td>\n",
       "      <td>2</td>\n",
       "      <td>2</td>\n",
       "    </tr>\n",
       "    <tr>\n",
       "      <th>83</th>\n",
       "      <td>Husein Augar</td>\n",
       "      <td>New Zealand</td>\n",
       "      <td>Baker's Choco Chips</td>\n",
       "      <td>2856</td>\n",
       "      <td>246</td>\n",
       "      <td>1378</td>\n",
       "      <td>1478</td>\n",
       "      <td>2017-02-02</td>\n",
       "      <td>2</td>\n",
       "      <td>3</td>\n",
       "    </tr>\n",
       "    <tr>\n",
       "      <th>84</th>\n",
       "      <td>Gunar Cockshoot</td>\n",
       "      <td>India</td>\n",
       "      <td>Baker's Choco Chips</td>\n",
       "      <td>3108</td>\n",
       "      <td>54</td>\n",
       "      <td>302</td>\n",
       "      <td>2806</td>\n",
       "      <td>2017-02-03</td>\n",
       "      <td>2</td>\n",
       "      <td>4</td>\n",
       "    </tr>\n",
       "    <tr>\n",
       "      <th>85</th>\n",
       "      <td>Gunar Cockshoot</td>\n",
       "      <td>UK</td>\n",
       "      <td>Baker's Choco Chips</td>\n",
       "      <td>4956</td>\n",
       "      <td>171</td>\n",
       "      <td>958</td>\n",
       "      <td>3998</td>\n",
       "      <td>2017-02-04</td>\n",
       "      <td>2</td>\n",
       "      <td>5</td>\n",
       "    </tr>\n",
       "    <tr>\n",
       "      <th>86</th>\n",
       "      <td>Oby Sorrel</td>\n",
       "      <td>India</td>\n",
       "      <td>Baker's Choco Chips</td>\n",
       "      <td>4991</td>\n",
       "      <td>9</td>\n",
       "      <td>50</td>\n",
       "      <td>4941</td>\n",
       "      <td>2017-02-05</td>\n",
       "      <td>2</td>\n",
       "      <td>6</td>\n",
       "    </tr>\n",
       "    <tr>\n",
       "      <th>87</th>\n",
       "      <td>Gigi Bohling</td>\n",
       "      <td>UK</td>\n",
       "      <td>Baker's Choco Chips</td>\n",
       "      <td>5236</td>\n",
       "      <td>51</td>\n",
       "      <td>286</td>\n",
       "      <td>4950</td>\n",
       "      <td>2017-02-06</td>\n",
       "      <td>2</td>\n",
       "      <td>0</td>\n",
       "    </tr>\n",
       "    <tr>\n",
       "      <th>88</th>\n",
       "      <td>Ches Bonnell</td>\n",
       "      <td>New Zealand</td>\n",
       "      <td>Baker's Choco Chips</td>\n",
       "      <td>5306</td>\n",
       "      <td>0</td>\n",
       "      <td>$-</td>\n",
       "      <td>5306</td>\n",
       "      <td>2017-02-07</td>\n",
       "      <td>2</td>\n",
       "      <td>1</td>\n",
       "    </tr>\n",
       "    <tr>\n",
       "      <th>89</th>\n",
       "      <td>Brien Boise</td>\n",
       "      <td>New Zealand</td>\n",
       "      <td>Baker's Choco Chips</td>\n",
       "      <td>6279</td>\n",
       "      <td>45</td>\n",
       "      <td>252</td>\n",
       "      <td>6027</td>\n",
       "      <td>2017-02-08</td>\n",
       "      <td>2</td>\n",
       "      <td>2</td>\n",
       "    </tr>\n",
       "    <tr>\n",
       "      <th>90</th>\n",
       "      <td>Ram Mahesh</td>\n",
       "      <td>India</td>\n",
       "      <td>Baker's Choco Chips</td>\n",
       "      <td>6748</td>\n",
       "      <td>48</td>\n",
       "      <td>269</td>\n",
       "      <td>6479</td>\n",
       "      <td>2017-02-09</td>\n",
       "      <td>2</td>\n",
       "      <td>3</td>\n",
       "    </tr>\n",
       "  </tbody>\n",
       "</table>\n",
       "</div>"
      ],
      "text/plain": [
       "       Sales Person    Geography              Product  Amount  Units  \\\n",
       "80      Brien Boise           UK  Baker's Choco Chips    1561     27   \n",
       "81     Carla Molina  New Zealand  Baker's Choco Chips    2324    177   \n",
       "82     Husein Augar    Australia  Baker's Choco Chips    2436     99   \n",
       "83     Husein Augar  New Zealand  Baker's Choco Chips    2856    246   \n",
       "84  Gunar Cockshoot        India  Baker's Choco Chips    3108     54   \n",
       "85  Gunar Cockshoot           UK  Baker's Choco Chips    4956    171   \n",
       "86       Oby Sorrel        India  Baker's Choco Chips    4991      9   \n",
       "87     Gigi Bohling           UK  Baker's Choco Chips    5236     51   \n",
       "88     Ches Bonnell  New Zealand  Baker's Choco Chips    5306      0   \n",
       "89      Brien Boise  New Zealand  Baker's Choco Chips    6279     45   \n",
       "90       Ram Mahesh        India  Baker's Choco Chips    6748     48   \n",
       "\n",
       "   TOTAL COST  PROFIT       Date  month  weekday  \n",
       "80        151    1410 2017-01-30      1        0  \n",
       "81        991    1333 2017-01-31      1        1  \n",
       "82        554    1882 2017-02-01      2        2  \n",
       "83       1378    1478 2017-02-02      2        3  \n",
       "84        302    2806 2017-02-03      2        4  \n",
       "85        958    3998 2017-02-04      2        5  \n",
       "86         50    4941 2017-02-05      2        6  \n",
       "87        286    4950 2017-02-06      2        0  \n",
       "88        $-     5306 2017-02-07      2        1  \n",
       "89        252    6027 2017-02-08      2        2  \n",
       "90        269    6479 2017-02-09      2        3  "
      ]
     },
     "execution_count": 164,
     "metadata": {},
     "output_type": "execute_result"
    }
   ],
   "source": [
    "newdata.loc[80:90]"
   ]
  },
  {
   "cell_type": "code",
   "execution_count": 166,
   "metadata": {},
   "outputs": [
    {
     "name": "stderr",
     "output_type": "stream",
     "text": [
      "C:\\Users\\Acer\\AppData\\Local\\Temp\\ipykernel_8992\\2416831841.py:1: SettingWithCopyWarning: \n",
      "A value is trying to be set on a copy of a slice from a DataFrame\n",
      "\n",
      "See the caveats in the documentation: https://pandas.pydata.org/pandas-docs/stable/user_guide/indexing.html#returning-a-view-versus-a-copy\n",
      "  newdata['TOTAL COST'][88] = 200\n"
     ]
    }
   ],
   "source": [
    "newdata['TOTAL COST'][88] = 200"
   ]
  },
  {
   "cell_type": "code",
   "execution_count": 167,
   "metadata": {},
   "outputs": [
    {
     "data": {
      "text/html": [
       "<div>\n",
       "<style scoped>\n",
       "    .dataframe tbody tr th:only-of-type {\n",
       "        vertical-align: middle;\n",
       "    }\n",
       "\n",
       "    .dataframe tbody tr th {\n",
       "        vertical-align: top;\n",
       "    }\n",
       "\n",
       "    .dataframe thead th {\n",
       "        text-align: right;\n",
       "    }\n",
       "</style>\n",
       "<table border=\"1\" class=\"dataframe\">\n",
       "  <thead>\n",
       "    <tr style=\"text-align: right;\">\n",
       "      <th></th>\n",
       "      <th>Sales Person</th>\n",
       "      <th>Geography</th>\n",
       "      <th>Product</th>\n",
       "      <th>Amount</th>\n",
       "      <th>Units</th>\n",
       "      <th>TOTAL COST</th>\n",
       "      <th>PROFIT</th>\n",
       "      <th>Date</th>\n",
       "      <th>month</th>\n",
       "      <th>weekday</th>\n",
       "    </tr>\n",
       "  </thead>\n",
       "  <tbody>\n",
       "    <tr>\n",
       "      <th>80</th>\n",
       "      <td>Brien Boise</td>\n",
       "      <td>UK</td>\n",
       "      <td>Baker's Choco Chips</td>\n",
       "      <td>1561</td>\n",
       "      <td>27</td>\n",
       "      <td>151</td>\n",
       "      <td>1410</td>\n",
       "      <td>2017-01-30</td>\n",
       "      <td>1</td>\n",
       "      <td>0</td>\n",
       "    </tr>\n",
       "    <tr>\n",
       "      <th>81</th>\n",
       "      <td>Carla Molina</td>\n",
       "      <td>New Zealand</td>\n",
       "      <td>Baker's Choco Chips</td>\n",
       "      <td>2324</td>\n",
       "      <td>177</td>\n",
       "      <td>991</td>\n",
       "      <td>1333</td>\n",
       "      <td>2017-01-31</td>\n",
       "      <td>1</td>\n",
       "      <td>1</td>\n",
       "    </tr>\n",
       "    <tr>\n",
       "      <th>82</th>\n",
       "      <td>Husein Augar</td>\n",
       "      <td>Australia</td>\n",
       "      <td>Baker's Choco Chips</td>\n",
       "      <td>2436</td>\n",
       "      <td>99</td>\n",
       "      <td>554</td>\n",
       "      <td>1882</td>\n",
       "      <td>2017-02-01</td>\n",
       "      <td>2</td>\n",
       "      <td>2</td>\n",
       "    </tr>\n",
       "    <tr>\n",
       "      <th>83</th>\n",
       "      <td>Husein Augar</td>\n",
       "      <td>New Zealand</td>\n",
       "      <td>Baker's Choco Chips</td>\n",
       "      <td>2856</td>\n",
       "      <td>246</td>\n",
       "      <td>1378</td>\n",
       "      <td>1478</td>\n",
       "      <td>2017-02-02</td>\n",
       "      <td>2</td>\n",
       "      <td>3</td>\n",
       "    </tr>\n",
       "    <tr>\n",
       "      <th>84</th>\n",
       "      <td>Gunar Cockshoot</td>\n",
       "      <td>India</td>\n",
       "      <td>Baker's Choco Chips</td>\n",
       "      <td>3108</td>\n",
       "      <td>54</td>\n",
       "      <td>302</td>\n",
       "      <td>2806</td>\n",
       "      <td>2017-02-03</td>\n",
       "      <td>2</td>\n",
       "      <td>4</td>\n",
       "    </tr>\n",
       "    <tr>\n",
       "      <th>85</th>\n",
       "      <td>Gunar Cockshoot</td>\n",
       "      <td>UK</td>\n",
       "      <td>Baker's Choco Chips</td>\n",
       "      <td>4956</td>\n",
       "      <td>171</td>\n",
       "      <td>958</td>\n",
       "      <td>3998</td>\n",
       "      <td>2017-02-04</td>\n",
       "      <td>2</td>\n",
       "      <td>5</td>\n",
       "    </tr>\n",
       "    <tr>\n",
       "      <th>86</th>\n",
       "      <td>Oby Sorrel</td>\n",
       "      <td>India</td>\n",
       "      <td>Baker's Choco Chips</td>\n",
       "      <td>4991</td>\n",
       "      <td>9</td>\n",
       "      <td>50</td>\n",
       "      <td>4941</td>\n",
       "      <td>2017-02-05</td>\n",
       "      <td>2</td>\n",
       "      <td>6</td>\n",
       "    </tr>\n",
       "    <tr>\n",
       "      <th>87</th>\n",
       "      <td>Gigi Bohling</td>\n",
       "      <td>UK</td>\n",
       "      <td>Baker's Choco Chips</td>\n",
       "      <td>5236</td>\n",
       "      <td>51</td>\n",
       "      <td>286</td>\n",
       "      <td>4950</td>\n",
       "      <td>2017-02-06</td>\n",
       "      <td>2</td>\n",
       "      <td>0</td>\n",
       "    </tr>\n",
       "    <tr>\n",
       "      <th>88</th>\n",
       "      <td>Ches Bonnell</td>\n",
       "      <td>New Zealand</td>\n",
       "      <td>Baker's Choco Chips</td>\n",
       "      <td>5306</td>\n",
       "      <td>0</td>\n",
       "      <td>200</td>\n",
       "      <td>5306</td>\n",
       "      <td>2017-02-07</td>\n",
       "      <td>2</td>\n",
       "      <td>1</td>\n",
       "    </tr>\n",
       "    <tr>\n",
       "      <th>89</th>\n",
       "      <td>Brien Boise</td>\n",
       "      <td>New Zealand</td>\n",
       "      <td>Baker's Choco Chips</td>\n",
       "      <td>6279</td>\n",
       "      <td>45</td>\n",
       "      <td>252</td>\n",
       "      <td>6027</td>\n",
       "      <td>2017-02-08</td>\n",
       "      <td>2</td>\n",
       "      <td>2</td>\n",
       "    </tr>\n",
       "    <tr>\n",
       "      <th>90</th>\n",
       "      <td>Ram Mahesh</td>\n",
       "      <td>India</td>\n",
       "      <td>Baker's Choco Chips</td>\n",
       "      <td>6748</td>\n",
       "      <td>48</td>\n",
       "      <td>269</td>\n",
       "      <td>6479</td>\n",
       "      <td>2017-02-09</td>\n",
       "      <td>2</td>\n",
       "      <td>3</td>\n",
       "    </tr>\n",
       "  </tbody>\n",
       "</table>\n",
       "</div>"
      ],
      "text/plain": [
       "       Sales Person    Geography              Product  Amount  Units  \\\n",
       "80      Brien Boise           UK  Baker's Choco Chips    1561     27   \n",
       "81     Carla Molina  New Zealand  Baker's Choco Chips    2324    177   \n",
       "82     Husein Augar    Australia  Baker's Choco Chips    2436     99   \n",
       "83     Husein Augar  New Zealand  Baker's Choco Chips    2856    246   \n",
       "84  Gunar Cockshoot        India  Baker's Choco Chips    3108     54   \n",
       "85  Gunar Cockshoot           UK  Baker's Choco Chips    4956    171   \n",
       "86       Oby Sorrel        India  Baker's Choco Chips    4991      9   \n",
       "87     Gigi Bohling           UK  Baker's Choco Chips    5236     51   \n",
       "88     Ches Bonnell  New Zealand  Baker's Choco Chips    5306      0   \n",
       "89      Brien Boise  New Zealand  Baker's Choco Chips    6279     45   \n",
       "90       Ram Mahesh        India  Baker's Choco Chips    6748     48   \n",
       "\n",
       "   TOTAL COST  PROFIT       Date  month  weekday  \n",
       "80        151    1410 2017-01-30      1        0  \n",
       "81        991    1333 2017-01-31      1        1  \n",
       "82        554    1882 2017-02-01      2        2  \n",
       "83       1378    1478 2017-02-02      2        3  \n",
       "84        302    2806 2017-02-03      2        4  \n",
       "85        958    3998 2017-02-04      2        5  \n",
       "86         50    4941 2017-02-05      2        6  \n",
       "87        286    4950 2017-02-06      2        0  \n",
       "88        200    5306 2017-02-07      2        1  \n",
       "89        252    6027 2017-02-08      2        2  \n",
       "90        269    6479 2017-02-09      2        3  "
      ]
     },
     "execution_count": 167,
     "metadata": {},
     "output_type": "execute_result"
    }
   ],
   "source": [
    "newdata.loc[80:90]"
   ]
  },
  {
   "cell_type": "code",
   "execution_count": 172,
   "metadata": {},
   "outputs": [
    {
     "data": {
      "text/plain": [
       "0       632\n",
       "1       878\n",
       "2      4317\n",
       "3      2984\n",
       "4      1123\n",
       "       ... \n",
       "295    2051\n",
       "296     395\n",
       "297     552\n",
       "298     592\n",
       "299     276\n",
       "Name: TOTAL COST, Length: 300, dtype: int64"
      ]
     },
     "execution_count": 172,
     "metadata": {},
     "output_type": "execute_result"
    }
   ],
   "source": [
    "pd.to_numeric(newdata['TOTAL COST'])"
   ]
  },
  {
   "cell_type": "code",
   "execution_count": 173,
   "metadata": {},
   "outputs": [
    {
     "name": "stdout",
     "output_type": "stream",
     "text": [
      "<class 'pandas.core.frame.DataFrame'>\n",
      "RangeIndex: 300 entries, 0 to 299\n",
      "Data columns (total 10 columns):\n",
      " #   Column        Non-Null Count  Dtype         \n",
      "---  ------        --------------  -----         \n",
      " 0   Sales Person  300 non-null    object        \n",
      " 1   Geography     300 non-null    object        \n",
      " 2   Product       300 non-null    object        \n",
      " 3   Amount        300 non-null    int64         \n",
      " 4   Units         300 non-null    int64         \n",
      " 5   TOTAL COST    300 non-null    object        \n",
      " 6   PROFIT        300 non-null    int64         \n",
      " 7   Date          300 non-null    datetime64[ns]\n",
      " 8   month         300 non-null    int64         \n",
      " 9   weekday       300 non-null    int64         \n",
      "dtypes: datetime64[ns](1), int64(5), object(4)\n",
      "memory usage: 23.6+ KB\n"
     ]
    }
   ],
   "source": [
    "newdata.info()"
   ]
  },
  {
   "cell_type": "code",
   "execution_count": 171,
   "metadata": {},
   "outputs": [
    {
     "data": {
      "text/plain": [
       "pandas.core.series.Series"
      ]
     },
     "execution_count": 171,
     "metadata": {},
     "output_type": "execute_result"
    }
   ],
   "source": [
    "type(newdata['TOTAL COST'])"
   ]
  },
  {
   "cell_type": "code",
   "execution_count": 185,
   "metadata": {},
   "outputs": [
    {
     "data": {
      "text/html": [
       "<div>\n",
       "<style scoped>\n",
       "    .dataframe tbody tr th:only-of-type {\n",
       "        vertical-align: middle;\n",
       "    }\n",
       "\n",
       "    .dataframe tbody tr th {\n",
       "        vertical-align: top;\n",
       "    }\n",
       "\n",
       "    .dataframe thead th {\n",
       "        text-align: right;\n",
       "    }\n",
       "</style>\n",
       "<table border=\"1\" class=\"dataframe\">\n",
       "  <thead>\n",
       "    <tr style=\"text-align: right;\">\n",
       "      <th></th>\n",
       "      <th>Amount</th>\n",
       "      <th>Units</th>\n",
       "      <th>PROFIT</th>\n",
       "      <th>month</th>\n",
       "      <th>weekday</th>\n",
       "    </tr>\n",
       "  </thead>\n",
       "  <tbody>\n",
       "    <tr>\n",
       "      <th>count</th>\n",
       "      <td>300.000000</td>\n",
       "      <td>300.000000</td>\n",
       "      <td>300.000000</td>\n",
       "      <td>300.000000</td>\n",
       "      <td>300.000000</td>\n",
       "    </tr>\n",
       "    <tr>\n",
       "      <th>mean</th>\n",
       "      <td>4136.230000</td>\n",
       "      <td>152.200000</td>\n",
       "      <td>2670.550000</td>\n",
       "      <td>5.820000</td>\n",
       "      <td>3.000000</td>\n",
       "    </tr>\n",
       "    <tr>\n",
       "      <th>std</th>\n",
       "      <td>3124.832629</td>\n",
       "      <td>118.099499</td>\n",
       "      <td>3389.964631</td>\n",
       "      <td>3.405818</td>\n",
       "      <td>2.006678</td>\n",
       "    </tr>\n",
       "    <tr>\n",
       "      <th>min</th>\n",
       "      <td>0.000000</td>\n",
       "      <td>0.000000</td>\n",
       "      <td>-7885.000000</td>\n",
       "      <td>1.000000</td>\n",
       "      <td>0.000000</td>\n",
       "    </tr>\n",
       "    <tr>\n",
       "      <th>25%</th>\n",
       "      <td>1652.000000</td>\n",
       "      <td>54.000000</td>\n",
       "      <td>199.000000</td>\n",
       "      <td>3.000000</td>\n",
       "      <td>1.000000</td>\n",
       "    </tr>\n",
       "    <tr>\n",
       "      <th>50%</th>\n",
       "      <td>3437.000000</td>\n",
       "      <td>124.500000</td>\n",
       "      <td>2314.500000</td>\n",
       "      <td>5.000000</td>\n",
       "      <td>3.000000</td>\n",
       "    </tr>\n",
       "    <tr>\n",
       "      <th>75%</th>\n",
       "      <td>6179.250000</td>\n",
       "      <td>220.500000</td>\n",
       "      <td>4722.750000</td>\n",
       "      <td>8.000000</td>\n",
       "      <td>5.000000</td>\n",
       "    </tr>\n",
       "    <tr>\n",
       "      <th>max</th>\n",
       "      <td>16184.000000</td>\n",
       "      <td>525.000000</td>\n",
       "      <td>15841.000000</td>\n",
       "      <td>12.000000</td>\n",
       "      <td>6.000000</td>\n",
       "    </tr>\n",
       "  </tbody>\n",
       "</table>\n",
       "</div>"
      ],
      "text/plain": [
       "             Amount       Units        PROFIT       month     weekday\n",
       "count    300.000000  300.000000    300.000000  300.000000  300.000000\n",
       "mean    4136.230000  152.200000   2670.550000    5.820000    3.000000\n",
       "std     3124.832629  118.099499   3389.964631    3.405818    2.006678\n",
       "min        0.000000    0.000000  -7885.000000    1.000000    0.000000\n",
       "25%     1652.000000   54.000000    199.000000    3.000000    1.000000\n",
       "50%     3437.000000  124.500000   2314.500000    5.000000    3.000000\n",
       "75%     6179.250000  220.500000   4722.750000    8.000000    5.000000\n",
       "max    16184.000000  525.000000  15841.000000   12.000000    6.000000"
      ]
     },
     "execution_count": 185,
     "metadata": {},
     "output_type": "execute_result"
    }
   ],
   "source": [
    "newdata.describe()"
   ]
  },
  {
   "cell_type": "code",
   "execution_count": 202,
   "metadata": {},
   "outputs": [
    {
     "data": {
      "image/png": "[encoded data removed]",
      "text/plain": [
       "<Figure size 432x288 with 1 Axes>"
      ]
     },
     "metadata": {
      "needs_background": "light"
     },
     "output_type": "display_data"
    }
   ],
   "source": [
    "plt.hist([newdata.month, newdata.weekday], bins=np.arange(0, 14), stacked=True);\n",
    "plt.legend(['month', 'weekday'])\n",
    "plt.grid(True)"
   ]
  },
  {
   "cell_type": "code",
   "execution_count": 203,
   "metadata": {},
   "outputs": [
    {
     "data": {
      "text/plain": [
       "array([ 0,  1,  2,  3,  4,  5,  6,  7,  8,  9, 10, 11, 12, 13])"
      ]
     },
     "execution_count": 203,
     "metadata": {},
     "output_type": "execute_result"
    }
   ],
   "source": [
    "np.arange(0,14)"
   ]
  },
  {
   "cell_type": "code",
   "execution_count": 221,
   "metadata": {},
   "outputs": [
    {
     "data": {
      "image/png": "[encoded data removed]",
      "text/plain": [
       "<Figure size 432x288 with 1 Axes>"
      ]
     },
     "metadata": {
      "needs_background": "light"
     },
     "output_type": "display_data"
    }
   ],
   "source": [
    "plt.hist(newdata.month);"
   ]
  },
  {
   "cell_type": "code",
   "execution_count": 222,
   "metadata": {},
   "outputs": [
    {
     "data": {
      "text/html": [
       "<div>\n",
       "<style scoped>\n",
       "    .dataframe tbody tr th:only-of-type {\n",
       "        vertical-align: middle;\n",
       "    }\n",
       "\n",
       "    .dataframe tbody tr th {\n",
       "        vertical-align: top;\n",
       "    }\n",
       "\n",
       "    .dataframe thead th {\n",
       "        text-align: right;\n",
       "    }\n",
       "</style>\n",
       "<table border=\"1\" class=\"dataframe\">\n",
       "  <thead>\n",
       "    <tr style=\"text-align: right;\">\n",
       "      <th></th>\n",
       "      <th>Amount</th>\n",
       "      <th>Units</th>\n",
       "      <th>PROFIT</th>\n",
       "      <th>month</th>\n",
       "      <th>weekday</th>\n",
       "    </tr>\n",
       "  </thead>\n",
       "  <tbody>\n",
       "    <tr>\n",
       "      <th>count</th>\n",
       "      <td>31.000000</td>\n",
       "      <td>31.000000</td>\n",
       "      <td>31.000000</td>\n",
       "      <td>31.0</td>\n",
       "      <td>31.000000</td>\n",
       "    </tr>\n",
       "    <tr>\n",
       "      <th>mean</th>\n",
       "      <td>3366.322581</td>\n",
       "      <td>135.096774</td>\n",
       "      <td>2027.870968</td>\n",
       "      <td>1.0</td>\n",
       "      <td>2.935484</td>\n",
       "    </tr>\n",
       "    <tr>\n",
       "      <th>std</th>\n",
       "      <td>3113.774552</td>\n",
       "      <td>107.530881</td>\n",
       "      <td>3344.835728</td>\n",
       "      <td>0.0</td>\n",
       "      <td>2.112431</td>\n",
       "    </tr>\n",
       "    <tr>\n",
       "      <th>min</th>\n",
       "      <td>98.000000</td>\n",
       "      <td>3.000000</td>\n",
       "      <td>-3474.000000</td>\n",
       "      <td>1.0</td>\n",
       "      <td>0.000000</td>\n",
       "    </tr>\n",
       "    <tr>\n",
       "      <th>25%</th>\n",
       "      <td>567.000000</td>\n",
       "      <td>45.000000</td>\n",
       "      <td>-273.000000</td>\n",
       "      <td>1.0</td>\n",
       "      <td>1.000000</td>\n",
       "    </tr>\n",
       "    <tr>\n",
       "      <th>50%</th>\n",
       "      <td>2205.000000</td>\n",
       "      <td>126.000000</td>\n",
       "      <td>1333.000000</td>\n",
       "      <td>1.0</td>\n",
       "      <td>3.000000</td>\n",
       "    </tr>\n",
       "    <tr>\n",
       "      <th>75%</th>\n",
       "      <td>6020.000000</td>\n",
       "      <td>199.500000</td>\n",
       "      <td>4438.500000</td>\n",
       "      <td>1.0</td>\n",
       "      <td>5.000000</td>\n",
       "    </tr>\n",
       "    <tr>\n",
       "      <th>max</th>\n",
       "      <td>10073.000000</td>\n",
       "      <td>402.000000</td>\n",
       "      <td>8647.000000</td>\n",
       "      <td>1.0</td>\n",
       "      <td>6.000000</td>\n",
       "    </tr>\n",
       "  </tbody>\n",
       "</table>\n",
       "</div>"
      ],
      "text/plain": [
       "             Amount       Units       PROFIT  month    weekday\n",
       "count     31.000000   31.000000    31.000000   31.0  31.000000\n",
       "mean    3366.322581  135.096774  2027.870968    1.0   2.935484\n",
       "std     3113.774552  107.530881  3344.835728    0.0   2.112431\n",
       "min       98.000000    3.000000 -3474.000000    1.0   0.000000\n",
       "25%      567.000000   45.000000  -273.000000    1.0   1.000000\n",
       "50%     2205.000000  126.000000  1333.000000    1.0   3.000000\n",
       "75%     6020.000000  199.500000  4438.500000    1.0   5.000000\n",
       "max    10073.000000  402.000000  8647.000000    1.0   6.000000"
      ]
     },
     "execution_count": 222,
     "metadata": {},
     "output_type": "execute_result"
    }
   ],
   "source": [
    "newdata[newdata.month == 1].describe()"
   ]
  },
  {
   "cell_type": "code",
   "execution_count": null,
   "metadata": {},
   "outputs": [],
   "source": []
  },
  {
   "cell_type": "code",
   "execution_count": null,
   "metadata": {},
   "outputs": [],
   "source": []
  }
 ],
 "metadata": {
  "kernelspec": {
   "display_name": "Python 3.10.4 64-bit",
   "language": "python",
   "name": "python3"
  },
  "language_info": {
   "codemirror_mode": {
    "name": "ipython",
    "version": 3
   },
   "file_extension": ".py",
   "mimetype": "text/x-python",
   "name": "python",
   "nbconvert_exporter": "python",
   "pygments_lexer": "ipython3",
   "version": "3.10.4"
  },
  "orig_nbformat": 4,
  "vscode": {
   "interpreter": {
    "hash": "58837b1b657ea91009af8409fc244ae3b5ccf93ea980d6fb6b80adc5f697f4cc"
   }
  }
 },
 "nbformat": 4,
 "nbformat_minor": 2
}
