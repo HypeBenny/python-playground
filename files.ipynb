{
 "cells": [
  {
   "cell_type": "code",
   "execution_count": 26,
   "metadata": {},
   "outputs": [
    {
     "name": "stdout",
     "output_type": "stream",
     "text": [
      "waga don issa good boy\n",
      "benny is off tomorrow\n",
      "\n",
      "\n"
     ]
    }
   ],
   "source": [
    "with open('C:\\\\Users\\Acer\\Downloads\\wooop.txt', 'r') as rf:\n",
    "    content = rf.read()\n",
    "    print(content)"
   ]
  },
  {
   "cell_type": "code",
   "execution_count": 71,
   "metadata": {},
   "outputs": [
    {
     "name": "stdout",
     "output_type": "stream",
     "text": [
      "waga don issa good boy.\n",
      "*"
     ]
    }
   ],
   "source": [
    "with open('C:\\\\Users\\Acer\\Downloads\\wooop.txt', 'r') as rf:\n",
    "    line = rf.readline()\n",
    "    print(line, end='*')\n",
    "    \n",
    "    "
   ]
  },
  {
   "cell_type": "code",
   "execution_count": 72,
   "metadata": {},
   "outputs": [
    {
     "name": "stdout",
     "output_type": "stream",
     "text": [
      "waga don issa good boy.\n",
      "\n",
      "benny is off tomorrow.\n",
      "\n"
     ]
    }
   ],
   "source": [
    "with open('C:\\\\Users\\Acer\\Downloads\\wooop.txt', 'r') as rf:\n",
    "    line = rf.readline()\n",
    "    print(line)\n",
    "    \n",
    "    line = rf.readline()\n",
    "    print(line)"
   ]
  },
  {
   "cell_type": "code",
   "execution_count": 91,
   "metadata": {},
   "outputs": [
    {
     "name": "stdout",
     "output_type": "stream",
     "text": [
      "waga don i\n",
      "ssa good b\n"
     ]
    }
   ],
   "source": [
    "with open('C:\\\\Users\\Acer\\Downloads\\wooop.txt', 'r') as rf:\n",
    "    content = rf.read(10)\n",
    "    print(content)\n",
    "    \n",
    "    content = rf.read(10)\n",
    "    print(content)"
   ]
  },
  {
   "cell_type": "code",
   "execution_count": 96,
   "metadata": {},
   "outputs": [
    {
     "name": "stdout",
     "output_type": "stream",
     "text": [
      "ood boy.\n",
      "b\n"
     ]
    }
   ],
   "source": [
    "with open('C:\\\\Users\\Acer\\Downloads\\wooop.txt', 'r') as rf:\n",
    "    rf.seek(15)\n",
    "    content = rf.read(10)\n",
    "    print(content)"
   ]
  },
  {
   "cell_type": "code",
   "execution_count": 113,
   "metadata": {},
   "outputs": [],
   "source": [
    "with open('C:\\\\Users\\Acer\\Downloads\\writing.txt', 'w') as wfile: \n",
    "    wfile.write('wossop, just started programming')\n",
    "    wfile.seek(0)\n",
    "    wfile.write('hi der')\n",
    "    "
   ]
  },
  {
   "cell_type": "code",
   "execution_count": 127,
   "metadata": {},
   "outputs": [],
   "source": [
    "with open(\"C:\\\\Users\\Acer\\Downloads\\writing.txt\", 'a') as wf:\n",
    "    with open(\"C:\\\\Users\\Acer\\Downloads\\wooop.txt\", 'r') as rf:\n",
    "        for line in rf:\n",
    "            cont = wf.write(line)\n",
    "            "
   ]
  },
  {
   "cell_type": "code",
   "execution_count": 9,
   "metadata": {},
   "outputs": [],
   "source": [
    "from  urllib import request"
   ]
  },
  {
   "cell_type": "code",
   "execution_count": 11,
   "metadata": {},
   "outputs": [
    {
     "name": "stdout",
     "output_type": "stream",
     "text": [
      "Help on function urlretrieve in module urllib.request:\n",
      "\n",
      "urlretrieve(url, filename=None, reporthook=None, data=None)\n",
      "    Retrieve a URL into a temporary location on disk.\n",
      "    \n",
      "    Requires a URL argument. If a filename is passed, it is used as\n",
      "    the temporary file location. The reporthook argument should be\n",
      "    a callable that accepts a block number, a read size, and the\n",
      "    total file size of the URL target. The data argument should be\n",
      "    valid URL encoded data.\n",
      "    \n",
      "    If a filename is passed and the URL points to a local resource,\n",
      "    the result is a copy from local file to new file.\n",
      "    \n",
      "    Returns a tuple containing the path to the newly created\n",
      "    data file as well as the resulting HTTPMessage object.\n",
      "\n"
     ]
    }
   ],
   "source": [
    "help(request.urlretrieve)"
   ]
  },
  {
   "cell_type": "code",
   "execution_count": null,
   "metadata": {},
   "outputs": [],
   "source": [
    "with open('path.txt', mode='r') as benny:\n",
    "    content = benny.read()\n",
    "    \n",
    "    "
   ]
  }
 ],
 "metadata": {
  "kernelspec": {
   "display_name": "Python 3.10.4 64-bit",
   "language": "python",
   "name": "python3"
  },
  "language_info": {
   "codemirror_mode": {
    "name": "ipython",
    "version": 3
   },
   "file_extension": ".py",
   "mimetype": "text/x-python",
   "name": "python",
   "nbconvert_exporter": "python",
   "pygments_lexer": "ipython3",
   "version": "3.10.4"
  },
  "orig_nbformat": 4,
  "vscode": {
   "interpreter": {
    "hash": "58837b1b657ea91009af8409fc244ae3b5ccf93ea980d6fb6b80adc5f697f4cc"
   }
  }
 },
 "nbformat": 4,
 "nbformat_minor": 2
}
