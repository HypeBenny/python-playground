{
 "cells": [
  {
   "cell_type": "code",
   "execution_count": 1,
   "metadata": {},
   "outputs": [],
   "source": [
    "import matplotlib.pyplot as plt\n",
    "import seaborn as sns\n",
    "%matplotlib inline"
   ]
  },
  {
   "cell_type": "code",
   "execution_count": 2,
   "metadata": {},
   "outputs": [],
   "source": [
    "import pandas as pd \n",
    "dataset = pd.read_excel(\"C:\\\\Users\\Acer\\Downloads\\Sample.Database.xlsx\", sheet_name='SampleDatabase')"
   ]
  },
  {
   "cell_type": "code",
   "execution_count": 3,
   "metadata": {},
   "outputs": [
    {
     "data": {
      "text/html": [
       "<div>\n",
       "<style scoped>\n",
       "    .dataframe tbody tr th:only-of-type {\n",
       "        vertical-align: middle;\n",
       "    }\n",
       "\n",
       "    .dataframe tbody tr th {\n",
       "        vertical-align: top;\n",
       "    }\n",
       "\n",
       "    .dataframe thead th {\n",
       "        text-align: right;\n",
       "    }\n",
       "</style>\n",
       "<table border=\"1\" class=\"dataframe\">\n",
       "  <thead>\n",
       "    <tr style=\"text-align: right;\">\n",
       "      <th></th>\n",
       "      <th>Date</th>\n",
       "      <th>Store</th>\n",
       "      <th>Salesperson</th>\n",
       "      <th>Product</th>\n",
       "      <th>Quantity</th>\n",
       "      <th>Price</th>\n",
       "      <th>Total Sales</th>\n",
       "    </tr>\n",
       "  </thead>\n",
       "  <tbody>\n",
       "    <tr>\n",
       "      <th>0</th>\n",
       "      <td>2017-10-22</td>\n",
       "      <td>Store J</td>\n",
       "      <td>Rep G</td>\n",
       "      <td>Product A</td>\n",
       "      <td>50</td>\n",
       "      <td>5</td>\n",
       "      <td>250</td>\n",
       "    </tr>\n",
       "    <tr>\n",
       "      <th>1</th>\n",
       "      <td>2017-03-21</td>\n",
       "      <td>Store D</td>\n",
       "      <td>Rep D</td>\n",
       "      <td>Product E</td>\n",
       "      <td>15</td>\n",
       "      <td>25</td>\n",
       "      <td>375</td>\n",
       "    </tr>\n",
       "    <tr>\n",
       "      <th>2</th>\n",
       "      <td>2017-11-12</td>\n",
       "      <td>Store A</td>\n",
       "      <td>Rep F</td>\n",
       "      <td>Product F</td>\n",
       "      <td>17</td>\n",
       "      <td>10</td>\n",
       "      <td>170</td>\n",
       "    </tr>\n",
       "    <tr>\n",
       "      <th>3</th>\n",
       "      <td>2017-06-09</td>\n",
       "      <td>Store G</td>\n",
       "      <td>Rep D</td>\n",
       "      <td>Product I</td>\n",
       "      <td>1</td>\n",
       "      <td>11</td>\n",
       "      <td>11</td>\n",
       "    </tr>\n",
       "    <tr>\n",
       "      <th>4</th>\n",
       "      <td>2017-06-19</td>\n",
       "      <td>Store F</td>\n",
       "      <td>Rep B</td>\n",
       "      <td>Product F</td>\n",
       "      <td>14</td>\n",
       "      <td>10</td>\n",
       "      <td>140</td>\n",
       "    </tr>\n",
       "    <tr>\n",
       "      <th>...</th>\n",
       "      <td>...</td>\n",
       "      <td>...</td>\n",
       "      <td>...</td>\n",
       "      <td>...</td>\n",
       "      <td>...</td>\n",
       "      <td>...</td>\n",
       "      <td>...</td>\n",
       "    </tr>\n",
       "    <tr>\n",
       "      <th>994</th>\n",
       "      <td>2017-01-23</td>\n",
       "      <td>Store J</td>\n",
       "      <td>Rep E</td>\n",
       "      <td>Product C</td>\n",
       "      <td>14</td>\n",
       "      <td>50</td>\n",
       "      <td>700</td>\n",
       "    </tr>\n",
       "    <tr>\n",
       "      <th>995</th>\n",
       "      <td>2017-07-17</td>\n",
       "      <td>Store B</td>\n",
       "      <td>Rep H</td>\n",
       "      <td>Product E</td>\n",
       "      <td>22</td>\n",
       "      <td>25</td>\n",
       "      <td>550</td>\n",
       "    </tr>\n",
       "    <tr>\n",
       "      <th>996</th>\n",
       "      <td>2017-01-06</td>\n",
       "      <td>Store E</td>\n",
       "      <td>Rep B</td>\n",
       "      <td>Product D</td>\n",
       "      <td>7</td>\n",
       "      <td>2</td>\n",
       "      <td>14</td>\n",
       "    </tr>\n",
       "    <tr>\n",
       "      <th>997</th>\n",
       "      <td>2017-04-02</td>\n",
       "      <td>Store A</td>\n",
       "      <td>Rep A</td>\n",
       "      <td>Product A</td>\n",
       "      <td>42</td>\n",
       "      <td>5</td>\n",
       "      <td>210</td>\n",
       "    </tr>\n",
       "    <tr>\n",
       "      <th>998</th>\n",
       "      <td>2017-02-18</td>\n",
       "      <td>Store D</td>\n",
       "      <td>Rep I</td>\n",
       "      <td>Product G</td>\n",
       "      <td>24</td>\n",
       "      <td>19</td>\n",
       "      <td>456</td>\n",
       "    </tr>\n",
       "  </tbody>\n",
       "</table>\n",
       "<p>999 rows × 7 columns</p>\n",
       "</div>"
      ],
      "text/plain": [
       "          Date    Store Salesperson    Product  Quantity  Price  Total Sales\n",
       "0   2017-10-22  Store J       Rep G  Product A        50      5          250\n",
       "1   2017-03-21  Store D       Rep D  Product E        15     25          375\n",
       "2   2017-11-12  Store A       Rep F  Product F        17     10          170\n",
       "3   2017-06-09  Store G       Rep D  Product I         1     11           11\n",
       "4   2017-06-19  Store F       Rep B  Product F        14     10          140\n",
       "..         ...      ...         ...        ...       ...    ...          ...\n",
       "994 2017-01-23  Store J       Rep E  Product C        14     50          700\n",
       "995 2017-07-17  Store B       Rep H  Product E        22     25          550\n",
       "996 2017-01-06  Store E       Rep B  Product D         7      2           14\n",
       "997 2017-04-02  Store A       Rep A  Product A        42      5          210\n",
       "998 2017-02-18  Store D       Rep I  Product G        24     19          456\n",
       "\n",
       "[999 rows x 7 columns]"
      ]
     },
     "execution_count": 3,
     "metadata": {},
     "output_type": "execute_result"
    }
   ],
   "source": [
    "dataset\n"
   ]
  },
  {
   "cell_type": "code",
   "execution_count": 267,
   "metadata": {},
   "outputs": [
    {
     "data": {
      "image/png": "[encoded data removed]",
      "text/plain": [
       "<Figure size 720x288 with 1 Axes>"
      ]
     },
     "metadata": {},
     "output_type": "display_data"
    }
   ],
   "source": [
    "plt.figure(figsize=(10,4))\n",
    "plt.bar(dataset.Product, dataset['Total Sales'], color='green', width=0.8)\n",
    "plt.grid(True);"
   ]
  },
  {
   "cell_type": "code",
   "execution_count": 96,
   "metadata": {},
   "outputs": [
    {
     "data": {
      "text/plain": [
       "[<matplotlib.lines.Line2D at 0x21c6ec356f0>]"
      ]
     },
     "execution_count": 96,
     "metadata": {},
     "output_type": "execute_result"
    },
    {
     "data": {
      "image/png": "[encoded data removed]",
      "text/plain": [
       "<Figure size 648x216 with 1 Axes>"
      ]
     },
     "metadata": {
      "needs_background": "light"
     },
     "output_type": "display_data"
    }
   ],
   "source": [
    "yields = [230,250,270,280,300]\n",
    "sales = [150, 200, 250, 300, 400]\n",
    "years = [2014, 2015, 2016, 2017, 2018]\n",
    "\n",
    "plt.figure(figsize=(9,3))\n",
    "plt.plot(yields)\n"
   ]
  },
  {
   "cell_type": "code",
   "execution_count": 89,
   "metadata": {},
   "outputs": [
    {
     "data": {
      "image/png": "[encoded data removed]",
      "text/plain": [
       "<Figure size 432x288 with 1 Axes>"
      ]
     },
     "metadata": {
      "needs_background": "light"
     },
     "output_type": "display_data"
    }
   ],
   "source": [
    "plt.plot(years, yields)\n",
    "plt.plot(years, sales, marker='>', alpha=0.9, linestyle='--', markersize='8', color='pink', linewidth=2, markerfacecolor='green' )\n",
    "plt.legend(['yields', 'sales'])\n",
    "plt.xlabel('years')\n",
    "plt.ylabel('yields')\n",
    "plt.title('chart of the first')\n",
    "plt.axis('off')\n",
    "plt.grid(True)"
   ]
  },
  {
   "cell_type": "code",
   "execution_count": 4,
   "metadata": {},
   "outputs": [
    {
     "data": {
      "text/html": [
       "<div>\n",
       "<style scoped>\n",
       "    .dataframe tbody tr th:only-of-type {\n",
       "        vertical-align: middle;\n",
       "    }\n",
       "\n",
       "    .dataframe tbody tr th {\n",
       "        vertical-align: top;\n",
       "    }\n",
       "\n",
       "    .dataframe thead th {\n",
       "        text-align: right;\n",
       "    }\n",
       "</style>\n",
       "<table border=\"1\" class=\"dataframe\">\n",
       "  <thead>\n",
       "    <tr style=\"text-align: right;\">\n",
       "      <th></th>\n",
       "      <th>Quantity</th>\n",
       "      <th>Price</th>\n",
       "      <th>Total Sales</th>\n",
       "    </tr>\n",
       "  </thead>\n",
       "  <tbody>\n",
       "    <tr>\n",
       "      <th>count</th>\n",
       "      <td>999.000000</td>\n",
       "      <td>999.000000</td>\n",
       "      <td>999.000000</td>\n",
       "    </tr>\n",
       "    <tr>\n",
       "      <th>mean</th>\n",
       "      <td>25.194194</td>\n",
       "      <td>15.551552</td>\n",
       "      <td>394.774775</td>\n",
       "    </tr>\n",
       "    <tr>\n",
       "      <th>std</th>\n",
       "      <td>14.166429</td>\n",
       "      <td>12.547748</td>\n",
       "      <td>417.303953</td>\n",
       "    </tr>\n",
       "    <tr>\n",
       "      <th>min</th>\n",
       "      <td>1.000000</td>\n",
       "      <td>2.000000</td>\n",
       "      <td>2.000000</td>\n",
       "    </tr>\n",
       "    <tr>\n",
       "      <th>25%</th>\n",
       "      <td>13.000000</td>\n",
       "      <td>8.000000</td>\n",
       "      <td>110.000000</td>\n",
       "    </tr>\n",
       "    <tr>\n",
       "      <th>50%</th>\n",
       "      <td>25.000000</td>\n",
       "      <td>11.000000</td>\n",
       "      <td>260.000000</td>\n",
       "    </tr>\n",
       "    <tr>\n",
       "      <th>75%</th>\n",
       "      <td>37.000000</td>\n",
       "      <td>19.000000</td>\n",
       "      <td>518.500000</td>\n",
       "    </tr>\n",
       "    <tr>\n",
       "      <th>max</th>\n",
       "      <td>50.000000</td>\n",
       "      <td>50.000000</td>\n",
       "      <td>2450.000000</td>\n",
       "    </tr>\n",
       "  </tbody>\n",
       "</table>\n",
       "</div>"
      ],
      "text/plain": [
       "         Quantity       Price  Total Sales\n",
       "count  999.000000  999.000000   999.000000\n",
       "mean    25.194194   15.551552   394.774775\n",
       "std     14.166429   12.547748   417.303953\n",
       "min      1.000000    2.000000     2.000000\n",
       "25%     13.000000    8.000000   110.000000\n",
       "50%     25.000000   11.000000   260.000000\n",
       "75%     37.000000   19.000000   518.500000\n",
       "max     50.000000   50.000000  2450.000000"
      ]
     },
     "execution_count": 4,
     "metadata": {},
     "output_type": "execute_result"
    }
   ],
   "source": [
    "dataset.describe()"
   ]
  },
  {
   "cell_type": "code",
   "execution_count": 148,
   "metadata": {},
   "outputs": [
    {
     "data": {
      "image/png": "[encoded data removed]",
      "text/plain": [
       "<Figure size 432x288 with 1 Axes>"
      ]
     },
     "metadata": {
      "needs_background": "light"
     },
     "output_type": "display_data"
    }
   ],
   "source": [
    "import numpy as np\n",
    "plt.hist(dataset.Price, bins=[2,16,24,30,40,51])\n",
    "plt.grid(True);"
   ]
  },
  {
   "cell_type": "code",
   "execution_count": 123,
   "metadata": {},
   "outputs": [
    {
     "data": {
      "image/png": "[encoded data removed]",
      "text/plain": [
       "<Figure size 576x360 with 1 Axes>"
      ]
     },
     "metadata": {
      "needs_background": "light"
     },
     "output_type": "display_data"
    }
   ],
   "source": [
    "grand = [24,25,26,27,28,29,30,23,25,27,28,30,32,35,38,40,24,25,34,35,38,39,40,42,45,34,35,36,37,38,39,40,42,27]\n",
    "24,29,34,39,44,49\n",
    "\n",
    "plt.figure(figsize=(8,5))\n",
    "plt.grid(True)\n",
    "plt.hist(grand, bins=5);"
   ]
  },
  {
   "cell_type": "code",
   "execution_count": 124,
   "metadata": {},
   "outputs": [
    {
     "data": {
      "text/plain": [
       "34"
      ]
     },
     "execution_count": 124,
     "metadata": {},
     "output_type": "execute_result"
    }
   ],
   "source": [
    "len(grand)"
   ]
  },
  {
   "cell_type": "code",
   "execution_count": 143,
   "metadata": {},
   "outputs": [
    {
     "data": {
      "text/plain": [
       "array([ 2,  7, 12, 17, 22, 27, 32, 37, 42, 47, 52])"
      ]
     },
     "execution_count": 143,
     "metadata": {},
     "output_type": "execute_result"
    }
   ],
   "source": [
    "np.arange(2,53, 5)"
   ]
  },
  {
   "cell_type": "code",
   "execution_count": 213,
   "metadata": {},
   "outputs": [
    {
     "name": "stderr",
     "output_type": "stream",
     "text": [
      "c:\\Users\\Acer\\AppData\\Local\\Programs\\Python\\Python310\\lib\\site-packages\\seaborn\\_decorators.py:36: FutureWarning: Pass the following variables as keyword args: x, y. From version 0.12, the only valid positional argument will be `data`, and passing other arguments without an explicit keyword will result in an error or misinterpretation.\n",
      "  warnings.warn(\n"
     ]
    },
    {
     "data": {
      "image/png": "[encoded data removed]",
      "text/plain": [
       "<Figure size 1008x576 with 6 Axes>"
      ]
     },
     "metadata": {
      "needs_background": "light"
     },
     "output_type": "display_data"
    }
   ],
   "source": [
    "fig, axes = plt.subplots(2,3, figsize=(14,8))\n",
    "plt.tight_layout(pad=3)\n",
    "axes[0,0].plot(years, yields, 'o--r')\n",
    "axes[0,0].set_xlabel('years')\n",
    "axes[0,0].set_ylabel('yields')\n",
    "axes[0,0].set_title('yields per year of orange');\n",
    "axes[0,0].grid(True)\n",
    "\n",
    "axes[0,1].bar(years,sales, color='yellow');\n",
    "\n",
    "sns.scatterplot(years, yields, s=80, ax=axes[0,2], color='green')\n",
    "axes[0,2].set_title('scatter plot of years per yield');\n"
   ]
  },
  {
   "cell_type": "code",
   "execution_count": 228,
   "metadata": {},
   "outputs": [
    {
     "name": "stderr",
     "output_type": "stream",
     "text": [
      "c:\\Users\\Acer\\AppData\\Local\\Programs\\Python\\Python310\\lib\\site-packages\\seaborn\\_decorators.py:36: FutureWarning: Pass the following variables as keyword args: x, y. From version 0.12, the only valid positional argument will be `data`, and passing other arguments without an explicit keyword will result in an error or misinterpretation.\n",
      "  warnings.warn(\n"
     ]
    },
    {
     "data": {
      "text/plain": [
       "''"
      ]
     },
     "execution_count": 228,
     "metadata": {},
     "output_type": "execute_result"
    },
    {
     "data": {
      "image/png": "[encoded data removed]",
      "text/plain": [
       "<Figure size 1008x576 with 1 Axes>"
      ]
     },
     "metadata": {},
     "output_type": "display_data"
    }
   ],
   "source": [
    "plt.figure(figsize=(14,8))\n",
    "sns.scatterplot('Product', 'Total Sales', hue='Store', data=dataset)\n",
    ";"
   ]
  },
  {
   "cell_type": "code",
   "execution_count": 259,
   "metadata": {},
   "outputs": [
    {
     "data": {
      "image/png": "[encoded data removed]",
      "text/plain": [
       "<Figure size 1080x576 with 1 Axes>"
      ]
     },
     "metadata": {},
     "output_type": "display_data"
    }
   ],
   "source": [
    "plt.figure(figsize=(15,8))\n",
    "plt.bar(dataset['Store'], dataset['Total Sales']);"
   ]
  },
  {
   "cell_type": "code",
   "execution_count": 260,
   "metadata": {},
   "outputs": [
    {
     "data": {
      "text/html": [
       "<div>\n",
       "<style scoped>\n",
       "    .dataframe tbody tr th:only-of-type {\n",
       "        vertical-align: middle;\n",
       "    }\n",
       "\n",
       "    .dataframe tbody tr th {\n",
       "        vertical-align: top;\n",
       "    }\n",
       "\n",
       "    .dataframe thead th {\n",
       "        text-align: right;\n",
       "    }\n",
       "</style>\n",
       "<table border=\"1\" class=\"dataframe\">\n",
       "  <thead>\n",
       "    <tr style=\"text-align: right;\">\n",
       "      <th></th>\n",
       "      <th>Quantity</th>\n",
       "      <th>Price</th>\n",
       "      <th>Total Sales</th>\n",
       "    </tr>\n",
       "    <tr>\n",
       "      <th>Store</th>\n",
       "      <th></th>\n",
       "      <th></th>\n",
       "      <th></th>\n",
       "    </tr>\n",
       "  </thead>\n",
       "  <tbody>\n",
       "    <tr>\n",
       "      <th>Store A</th>\n",
       "      <td>2427</td>\n",
       "      <td>1764</td>\n",
       "      <td>40321</td>\n",
       "    </tr>\n",
       "    <tr>\n",
       "      <th>Store B</th>\n",
       "      <td>2792</td>\n",
       "      <td>1718</td>\n",
       "      <td>45351</td>\n",
       "    </tr>\n",
       "    <tr>\n",
       "      <th>Store C</th>\n",
       "      <td>2457</td>\n",
       "      <td>1687</td>\n",
       "      <td>40593</td>\n",
       "    </tr>\n",
       "    <tr>\n",
       "      <th>Store D</th>\n",
       "      <td>2182</td>\n",
       "      <td>1337</td>\n",
       "      <td>31929</td>\n",
       "    </tr>\n",
       "    <tr>\n",
       "      <th>Store E</th>\n",
       "      <td>2422</td>\n",
       "      <td>1453</td>\n",
       "      <td>38164</td>\n",
       "    </tr>\n",
       "    <tr>\n",
       "      <th>Store F</th>\n",
       "      <td>2324</td>\n",
       "      <td>1262</td>\n",
       "      <td>36755</td>\n",
       "    </tr>\n",
       "    <tr>\n",
       "      <th>Store G</th>\n",
       "      <td>2413</td>\n",
       "      <td>1465</td>\n",
       "      <td>34573</td>\n",
       "    </tr>\n",
       "    <tr>\n",
       "      <th>Store H</th>\n",
       "      <td>2772</td>\n",
       "      <td>1385</td>\n",
       "      <td>38021</td>\n",
       "    </tr>\n",
       "    <tr>\n",
       "      <th>Store I</th>\n",
       "      <td>2612</td>\n",
       "      <td>1793</td>\n",
       "      <td>45556</td>\n",
       "    </tr>\n",
       "    <tr>\n",
       "      <th>Store J</th>\n",
       "      <td>2768</td>\n",
       "      <td>1672</td>\n",
       "      <td>43117</td>\n",
       "    </tr>\n",
       "  </tbody>\n",
       "</table>\n",
       "</div>"
      ],
      "text/plain": [
       "         Quantity  Price  Total Sales\n",
       "Store                                \n",
       "Store A      2427   1764        40321\n",
       "Store B      2792   1718        45351\n",
       "Store C      2457   1687        40593\n",
       "Store D      2182   1337        31929\n",
       "Store E      2422   1453        38164\n",
       "Store F      2324   1262        36755\n",
       "Store G      2413   1465        34573\n",
       "Store H      2772   1385        38021\n",
       "Store I      2612   1793        45556\n",
       "Store J      2768   1672        43117"
      ]
     },
     "execution_count": 260,
     "metadata": {},
     "output_type": "execute_result"
    }
   ],
   "source": [
    "dataset.groupby('Store').sum()"
   ]
  },
  {
   "cell_type": "code",
   "execution_count": 256,
   "metadata": {},
   "outputs": [
    {
     "name": "stderr",
     "output_type": "stream",
     "text": [
      "c:\\Users\\Acer\\AppData\\Local\\Programs\\Python\\Python310\\lib\\site-packages\\seaborn\\_decorators.py:36: FutureWarning: Pass the following variables as keyword args: x, y. From version 0.12, the only valid positional argument will be `data`, and passing other arguments without an explicit keyword will result in an error or misinterpretation.\n",
      "  warnings.warn(\n"
     ]
    },
    {
     "data": {
      "image/png": "[encoded data removed]",
      "text/plain": [
       "<Figure size 720x432 with 1 Axes>"
      ]
     },
     "metadata": {},
     "output_type": "display_data"
    }
   ],
   "source": [
    "plt.figure(figsize=(10,6))\n",
    "sns.set_style('whitegrid')\n",
    "sns.barplot('Store', 'Total Sales', data=dataset);\n"
   ]
  },
  {
   "cell_type": "code",
   "execution_count": 261,
   "metadata": {},
   "outputs": [
    {
     "data": {
      "text/html": [
       "<div>\n",
       "<style scoped>\n",
       "    .dataframe tbody tr th:only-of-type {\n",
       "        vertical-align: middle;\n",
       "    }\n",
       "\n",
       "    .dataframe tbody tr th {\n",
       "        vertical-align: top;\n",
       "    }\n",
       "\n",
       "    .dataframe thead th {\n",
       "        text-align: right;\n",
       "    }\n",
       "</style>\n",
       "<table border=\"1\" class=\"dataframe\">\n",
       "  <thead>\n",
       "    <tr style=\"text-align: right;\">\n",
       "      <th></th>\n",
       "      <th>Quantity</th>\n",
       "      <th>Price</th>\n",
       "      <th>Total Sales</th>\n",
       "    </tr>\n",
       "    <tr>\n",
       "      <th>Store</th>\n",
       "      <th></th>\n",
       "      <th></th>\n",
       "      <th></th>\n",
       "    </tr>\n",
       "  </thead>\n",
       "  <tbody>\n",
       "    <tr>\n",
       "      <th>Store A</th>\n",
       "      <td>23.563107</td>\n",
       "      <td>17.126214</td>\n",
       "      <td>391.466019</td>\n",
       "    </tr>\n",
       "    <tr>\n",
       "      <th>Store B</th>\n",
       "      <td>25.851852</td>\n",
       "      <td>15.907407</td>\n",
       "      <td>419.916667</td>\n",
       "    </tr>\n",
       "    <tr>\n",
       "      <th>Store C</th>\n",
       "      <td>25.329897</td>\n",
       "      <td>17.391753</td>\n",
       "      <td>418.484536</td>\n",
       "    </tr>\n",
       "    <tr>\n",
       "      <th>Store D</th>\n",
       "      <td>24.516854</td>\n",
       "      <td>15.022472</td>\n",
       "      <td>358.752809</td>\n",
       "    </tr>\n",
       "    <tr>\n",
       "      <th>Store E</th>\n",
       "      <td>23.980198</td>\n",
       "      <td>14.386139</td>\n",
       "      <td>377.861386</td>\n",
       "    </tr>\n",
       "    <tr>\n",
       "      <th>Store F</th>\n",
       "      <td>27.341176</td>\n",
       "      <td>14.847059</td>\n",
       "      <td>432.411765</td>\n",
       "    </tr>\n",
       "    <tr>\n",
       "      <th>Store G</th>\n",
       "      <td>23.427184</td>\n",
       "      <td>14.223301</td>\n",
       "      <td>335.660194</td>\n",
       "    </tr>\n",
       "    <tr>\n",
       "      <th>Store H</th>\n",
       "      <td>27.176471</td>\n",
       "      <td>13.578431</td>\n",
       "      <td>372.754902</td>\n",
       "    </tr>\n",
       "    <tr>\n",
       "      <th>Store I</th>\n",
       "      <td>24.411215</td>\n",
       "      <td>16.757009</td>\n",
       "      <td>425.757009</td>\n",
       "    </tr>\n",
       "    <tr>\n",
       "      <th>Store J</th>\n",
       "      <td>26.615385</td>\n",
       "      <td>16.076923</td>\n",
       "      <td>414.586538</td>\n",
       "    </tr>\n",
       "  </tbody>\n",
       "</table>\n",
       "</div>"
      ],
      "text/plain": [
       "          Quantity      Price  Total Sales\n",
       "Store                                     \n",
       "Store A  23.563107  17.126214   391.466019\n",
       "Store B  25.851852  15.907407   419.916667\n",
       "Store C  25.329897  17.391753   418.484536\n",
       "Store D  24.516854  15.022472   358.752809\n",
       "Store E  23.980198  14.386139   377.861386\n",
       "Store F  27.341176  14.847059   432.411765\n",
       "Store G  23.427184  14.223301   335.660194\n",
       "Store H  27.176471  13.578431   372.754902\n",
       "Store I  24.411215  16.757009   425.757009\n",
       "Store J  26.615385  16.076923   414.586538"
      ]
     },
     "execution_count": 261,
     "metadata": {},
     "output_type": "execute_result"
    }
   ],
   "source": [
    "dataset.groupby('Store').mean()"
   ]
  },
  {
   "cell_type": "code",
   "execution_count": null,
   "metadata": {},
   "outputs": [],
   "source": [
    "sns.heatmap"
   ]
  },
  {
   "cell_type": "code",
   "execution_count": 268,
   "metadata": {},
   "outputs": [
    {
     "name": "stdout",
     "output_type": "stream",
     "text": [
      "Help on function barplot in module seaborn.categorical:\n",
      "\n",
      "barplot(*, x=None, y=None, hue=None, data=None, order=None, hue_order=None, estimator=<function mean at 0x0000021C4FFBDB40>, ci=95, n_boot=1000, units=None, seed=None, orient=None, color=None, palette=None, saturation=0.75, errcolor='.26', errwidth=None, capsize=None, dodge=True, ax=None, **kwargs)\n",
      "    Show point estimates and confidence intervals as rectangular bars.\n",
      "    \n",
      "    A bar plot represents an estimate of central tendency for a numeric\n",
      "    variable with the height of each rectangle and provides some indication of\n",
      "    the uncertainty around that estimate using error bars. Bar plots include 0\n",
      "    in the quantitative axis range, and they are a good choice when 0 is a\n",
      "    meaningful value for the quantitative variable, and you want to make\n",
      "    comparisons against it.\n",
      "    \n",
      "    For datasets where 0 is not a meaningful value, a point plot will allow you\n",
      "    to focus on differences between levels of one or more categorical\n",
      "    variables.\n",
      "    \n",
      "    It is also important to keep in mind that a bar plot shows only the mean\n",
      "    (or other estimator) value, but in many cases it may be more informative to\n",
      "    show the distribution of values at each level of the categorical variables.\n",
      "    In that case, other approaches such as a box or violin plot may be more\n",
      "    appropriate.\n",
      "    \n",
      "    \n",
      "    Input data can be passed in a variety of formats, including:\n",
      "    \n",
      "    - Vectors of data represented as lists, numpy arrays, or pandas Series\n",
      "      objects passed directly to the ``x``, ``y``, and/or ``hue`` parameters.\n",
      "    - A \"long-form\" DataFrame, in which case the ``x``, ``y``, and ``hue``\n",
      "      variables will determine how the data are plotted.\n",
      "    - A \"wide-form\" DataFrame, such that each numeric column will be plotted.\n",
      "    - An array or list of vectors.\n",
      "    \n",
      "    In most cases, it is possible to use numpy or Python objects, but pandas\n",
      "    objects are preferable because the associated names will be used to\n",
      "    annotate the axes. Additionally, you can use Categorical types for the\n",
      "    grouping variables to control the order of plot elements.    \n",
      "    \n",
      "    This function always treats one of the variables as categorical and\n",
      "    draws data at ordinal positions (0, 1, ... n) on the relevant axis, even\n",
      "    when the data has a numeric or date type.\n",
      "    \n",
      "    See the :ref:`tutorial <categorical_tutorial>` for more information.    \n",
      "    \n",
      "    Parameters\n",
      "    ----------\n",
      "    x, y, hue : names of variables in ``data`` or vector data, optional\n",
      "        Inputs for plotting long-form data. See examples for interpretation.        \n",
      "    data : DataFrame, array, or list of arrays, optional\n",
      "        Dataset for plotting. If ``x`` and ``y`` are absent, this is\n",
      "        interpreted as wide-form. Otherwise it is expected to be long-form.    \n",
      "    order, hue_order : lists of strings, optional\n",
      "        Order to plot the categorical levels in, otherwise the levels are\n",
      "        inferred from the data objects.        \n",
      "    estimator : callable that maps vector -> scalar, optional\n",
      "        Statistical function to estimate within each categorical bin.\n",
      "    ci : float or \"sd\" or None, optional\n",
      "        Size of confidence intervals to draw around estimated values.  If\n",
      "        \"sd\", skip bootstrapping and draw the standard deviation of the\n",
      "        observations. If ``None``, no bootstrapping will be performed, and\n",
      "        error bars will not be drawn.\n",
      "    n_boot : int, optional\n",
      "        Number of bootstrap iterations to use when computing confidence\n",
      "        intervals.\n",
      "    units : name of variable in ``data`` or vector data, optional\n",
      "        Identifier of sampling units, which will be used to perform a\n",
      "        multilevel bootstrap and account for repeated measures design.\n",
      "    seed : int, numpy.random.Generator, or numpy.random.RandomState, optional\n",
      "        Seed or random number generator for reproducible bootstrapping.    \n",
      "    orient : \"v\" | \"h\", optional\n",
      "        Orientation of the plot (vertical or horizontal). This is usually\n",
      "        inferred based on the type of the input variables, but it can be used\n",
      "        to resolve ambiguity when both `x` and `y` are numeric or when\n",
      "        plotting wide-form data.    \n",
      "    color : matplotlib color, optional\n",
      "        Color for all of the elements, or seed for a gradient palette.    \n",
      "    palette : palette name, list, or dict\n",
      "        Colors to use for the different levels of the ``hue`` variable. Should\n",
      "        be something that can be interpreted by :func:`color_palette`, or a\n",
      "        dictionary mapping hue levels to matplotlib colors.    \n",
      "    saturation : float, optional\n",
      "        Proportion of the original saturation to draw colors at. Large patches\n",
      "        often look better with slightly desaturated colors, but set this to\n",
      "        ``1`` if you want the plot colors to perfectly match the input color\n",
      "        spec.    \n",
      "    errcolor : matplotlib color\n",
      "        Color for the lines that represent the confidence interval.\n",
      "    errwidth : float, optional\n",
      "        Thickness of error bar lines (and caps).         \n",
      "    capsize : float, optional\n",
      "        Width of the \"caps\" on error bars.\n",
      "    \n",
      "    dodge : bool, optional\n",
      "        When hue nesting is used, whether elements should be shifted along the\n",
      "        categorical axis.    \n",
      "    ax : matplotlib Axes, optional\n",
      "        Axes object to draw the plot onto, otherwise uses the current Axes.    \n",
      "    kwargs : key, value mappings\n",
      "        Other keyword arguments are passed through to\n",
      "        :meth:`matplotlib.axes.Axes.bar`.\n",
      "    \n",
      "    Returns\n",
      "    -------\n",
      "    ax : matplotlib Axes\n",
      "        Returns the Axes object with the plot drawn onto it.    \n",
      "    \n",
      "    See Also\n",
      "    --------\n",
      "    countplot : Show the counts of observations in each categorical bin.    \n",
      "    pointplot : Show point estimates and confidence intervals using scatterplot\n",
      "                glyphs.    \n",
      "    catplot : Combine a categorical plot with a :class:`FacetGrid`.    \n",
      "    \n",
      "    Examples\n",
      "    --------\n",
      "    \n",
      "    Draw a set of vertical bar plots grouped by a categorical variable:\n",
      "    \n",
      "    .. plot::\n",
      "        :context: close-figs\n",
      "    \n",
      "        >>> import seaborn as sns\n",
      "        >>> sns.set_theme(style=\"whitegrid\")\n",
      "        >>> tips = sns.load_dataset(\"tips\")\n",
      "        >>> ax = sns.barplot(x=\"day\", y=\"total_bill\", data=tips)\n",
      "    \n",
      "    Draw a set of vertical bars with nested grouping by a two variables:\n",
      "    \n",
      "    .. plot::\n",
      "        :context: close-figs\n",
      "    \n",
      "        >>> ax = sns.barplot(x=\"day\", y=\"total_bill\", hue=\"sex\", data=tips)\n",
      "    \n",
      "    Draw a set of horizontal bars:\n",
      "    \n",
      "    .. plot::\n",
      "        :context: close-figs\n",
      "    \n",
      "        >>> ax = sns.barplot(x=\"tip\", y=\"day\", data=tips)\n",
      "    \n",
      "    Control bar order by passing an explicit order:\n",
      "    \n",
      "    .. plot::\n",
      "        :context: close-figs\n",
      "    \n",
      "        >>> ax = sns.barplot(x=\"time\", y=\"tip\", data=tips,\n",
      "        ...                  order=[\"Dinner\", \"Lunch\"])\n",
      "    \n",
      "    Use median as the estimate of central tendency:\n",
      "    \n",
      "    .. plot::\n",
      "        :context: close-figs\n",
      "    \n",
      "        >>> from numpy import median\n",
      "        >>> ax = sns.barplot(x=\"day\", y=\"tip\", data=tips, estimator=median)\n",
      "    \n",
      "    Show the standard error of the mean with the error bars:\n",
      "    \n",
      "    .. plot::\n",
      "        :context: close-figs\n",
      "    \n",
      "        >>> ax = sns.barplot(x=\"day\", y=\"tip\", data=tips, ci=68)\n",
      "    \n",
      "    Show standard deviation of observations instead of a confidence interval:\n",
      "    \n",
      "    .. plot::\n",
      "        :context: close-figs\n",
      "    \n",
      "        >>> ax = sns.barplot(x=\"day\", y=\"tip\", data=tips, ci=\"sd\")\n",
      "    \n",
      "    Add \"caps\" to the error bars:\n",
      "    \n",
      "    .. plot::\n",
      "        :context: close-figs\n",
      "    \n",
      "        >>> ax = sns.barplot(x=\"day\", y=\"tip\", data=tips, capsize=.2)\n",
      "    \n",
      "    Use a different color palette for the bars:\n",
      "    \n",
      "    .. plot::\n",
      "        :context: close-figs\n",
      "    \n",
      "        >>> ax = sns.barplot(x=\"size\", y=\"total_bill\", data=tips,\n",
      "        ...                  palette=\"Blues_d\")\n",
      "    \n",
      "    Use ``hue`` without changing bar position or width:\n",
      "    \n",
      "    .. plot::\n",
      "        :context: close-figs\n",
      "    \n",
      "        >>> tips[\"weekend\"] = tips[\"day\"].isin([\"Sat\", \"Sun\"])\n",
      "        >>> ax = sns.barplot(x=\"day\", y=\"total_bill\", hue=\"weekend\",\n",
      "        ...                  data=tips, dodge=False)\n",
      "    \n",
      "    Plot all bars in a single color:\n",
      "    \n",
      "    .. plot::\n",
      "        :context: close-figs\n",
      "    \n",
      "        >>> ax = sns.barplot(x=\"size\", y=\"total_bill\", data=tips,\n",
      "        ...                  color=\"salmon\", saturation=.5)\n",
      "    \n",
      "    Use :meth:`matplotlib.axes.Axes.bar` parameters to control the style.\n",
      "    \n",
      "    .. plot::\n",
      "        :context: close-figs\n",
      "    \n",
      "        >>> ax = sns.barplot(x=\"day\", y=\"total_bill\", data=tips,\n",
      "        ...                  linewidth=2.5, facecolor=(1, 1, 1, 0),\n",
      "        ...                  errcolor=\".2\", edgecolor=\".2\")\n",
      "    \n",
      "    Use :func:`catplot` to combine a :func:`barplot` and a :class:`FacetGrid`.\n",
      "    This allows grouping within additional categorical variables. Using\n",
      "    :func:`catplot` is safer than using :class:`FacetGrid` directly, as it\n",
      "    ensures synchronization of variable order across facets:\n",
      "    \n",
      "    .. plot::\n",
      "        :context: close-figs\n",
      "    \n",
      "        >>> g = sns.catplot(x=\"sex\", y=\"total_bill\",\n",
      "        ...                 hue=\"smoker\", col=\"time\",\n",
      "        ...                 data=tips, kind=\"bar\",\n",
      "        ...                 height=4, aspect=.7);\n",
      "\n"
     ]
    }
   ],
   "source": [
    "help(sns.barplot)"
   ]
  },
  {
   "cell_type": "code",
   "execution_count": null,
   "metadata": {},
   "outputs": [],
   "source": []
  }
 ],
 "metadata": {
  "kernelspec": {
   "display_name": "Python 3.10.4 64-bit",
   "language": "python",
   "name": "python3"
  },
  "language_info": {
   "codemirror_mode": {
    "name": "ipython",
    "version": 3
   },
   "file_extension": ".py",
   "mimetype": "text/x-python",
   "name": "python",
   "nbconvert_exporter": "python",
   "pygments_lexer": "ipython3",
   "version": "3.10.4"
  },
  "orig_nbformat": 4,
  "vscode": {
   "interpreter": {
    "hash": "58837b1b657ea91009af8409fc244ae3b5ccf93ea980d6fb6b80adc5f697f4cc"
   }
  }
 },
 "nbformat": 4,
 "nbformat_minor": 2
}
