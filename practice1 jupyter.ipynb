{
 "cells": [
  {
   "cell_type": "code",
   "execution_count": 1,
   "id": "701a349f",
   "metadata": {},
   "outputs": [],
   "source": [
    "import numpy as np\n",
    "import pandas as pd\n",
    "import seaborn as sns\n",
    "import matplotlib.pyplot as plt\n",
    "import os\n",
    "%matplotlib inline"
   ]
  },
  {
   "cell_type": "code",
   "execution_count": 65,
   "id": "872e08b9",
   "metadata": {},
   "outputs": [
    {
     "data": {
      "text/html": [
       "<div>\n",
       "<style scoped>\n",
       "    .dataframe tbody tr th:only-of-type {\n",
       "        vertical-align: middle;\n",
       "    }\n",
       "\n",
       "    .dataframe tbody tr th {\n",
       "        vertical-align: top;\n",
       "    }\n",
       "\n",
       "    .dataframe thead th {\n",
       "        text-align: right;\n",
       "    }\n",
       "</style>\n",
       "<table border=\"1\" class=\"dataframe\">\n",
       "  <thead>\n",
       "    <tr style=\"text-align: right;\">\n",
       "      <th></th>\n",
       "      <th>ben</th>\n",
       "      <th>ken</th>\n",
       "      <th>ten</th>\n",
       "    </tr>\n",
       "  </thead>\n",
       "  <tbody>\n",
       "    <tr>\n",
       "      <th>0</th>\n",
       "      <td>2</td>\n",
       "      <td>3</td>\n",
       "      <td>4</td>\n",
       "    </tr>\n",
       "    <tr>\n",
       "      <th>1</th>\n",
       "      <td>5</td>\n",
       "      <td>6</td>\n",
       "      <td>7</td>\n",
       "    </tr>\n",
       "    <tr>\n",
       "      <th>2</th>\n",
       "      <td>8</td>\n",
       "      <td>9</td>\n",
       "      <td>10</td>\n",
       "    </tr>\n",
       "  </tbody>\n",
       "</table>\n",
       "</div>"
      ],
      "text/plain": [
       "   ben  ken  ten\n",
       "0    2    3    4\n",
       "1    5    6    7\n",
       "2    8    9   10"
      ]
     },
     "execution_count": 65,
     "metadata": {},
     "output_type": "execute_result"
    }
   ],
   "source": [
    "dataset = pd.DataFrame([[2,3,4],\n",
    "                        [5,6,7],\n",
    "                        [8,9,10]],\n",
    "                      columns=['ben', 'ken', 'ten'])\n",
    "dataset"
   ]
  },
  {
   "cell_type": "code",
   "execution_count": 3,
   "id": "e4651ea3",
   "metadata": {},
   "outputs": [
    {
     "data": {
      "image/png": "[encoded data removed]",
      "text/plain": [
       "<Figure size 576x360 with 1 Axes>"
      ]
     },
     "metadata": {
      "needs_background": "light"
     },
     "output_type": "display_data"
    }
   ],
   "source": [
    "dark = [23,24,26,27,28,29]\n",
    "ben = [25,30,20,35,22,27]\n",
    "plt.figure(figsize=(8,5))\n",
    "plt.plot(dark, ben, alpha=0.9, linestyle='--', color='green', linewidth=4, marker='s', markerfacecolor='yellow', markersize=9);\n",
    "plt.xlabel('dark numbers')\n",
    "plt.ylabel('ben list')\n",
    "plt.title('ben against dark')\n",
    "plt.grid(True)"
   ]
  },
  {
   "cell_type": "code",
   "execution_count": 12,
   "id": "19afc144",
   "metadata": {},
   "outputs": [
    {
     "data": {
      "text/html": [
       "<div>\n",
       "<style scoped>\n",
       "    .dataframe tbody tr th:only-of-type {\n",
       "        vertical-align: middle;\n",
       "    }\n",
       "\n",
       "    .dataframe tbody tr th {\n",
       "        vertical-align: top;\n",
       "    }\n",
       "\n",
       "    .dataframe thead th {\n",
       "        text-align: right;\n",
       "    }\n",
       "</style>\n",
       "<table border=\"1\" class=\"dataframe\">\n",
       "  <thead>\n",
       "    <tr style=\"text-align: right;\">\n",
       "      <th></th>\n",
       "      <th>Sales Person</th>\n",
       "      <th>Geography</th>\n",
       "      <th>Product</th>\n",
       "      <th>Amount</th>\n",
       "      <th>Units</th>\n",
       "      <th>TOTAL COST</th>\n",
       "      <th>PROFIT</th>\n",
       "      <th>Date</th>\n",
       "    </tr>\n",
       "  </thead>\n",
       "  <tbody>\n",
       "    <tr>\n",
       "      <th>0</th>\n",
       "      <td>Barr Faughny</td>\n",
       "      <td>New Zealand</td>\n",
       "      <td>50% Dark Bites</td>\n",
       "      <td>1057</td>\n",
       "      <td>54</td>\n",
       "      <td>632</td>\n",
       "      <td>425</td>\n",
       "      <td>2016-11-11</td>\n",
       "    </tr>\n",
       "    <tr>\n",
       "      <th>1</th>\n",
       "      <td>Ches Bonnell</td>\n",
       "      <td>Australia</td>\n",
       "      <td>50% Dark Bites</td>\n",
       "      <td>1281</td>\n",
       "      <td>75</td>\n",
       "      <td>878</td>\n",
       "      <td>404</td>\n",
       "      <td>2016-11-12</td>\n",
       "    </tr>\n",
       "    <tr>\n",
       "      <th>2</th>\n",
       "      <td>Ches Bonnell</td>\n",
       "      <td>India</td>\n",
       "      <td>50% Dark Bites</td>\n",
       "      <td>1932</td>\n",
       "      <td>369</td>\n",
       "      <td>4317</td>\n",
       "      <td>-2385</td>\n",
       "      <td>2016-11-13</td>\n",
       "    </tr>\n",
       "    <tr>\n",
       "      <th>3</th>\n",
       "      <td>Gunar Cockshoot</td>\n",
       "      <td>USA</td>\n",
       "      <td>50% Dark Bites</td>\n",
       "      <td>2415</td>\n",
       "      <td>255</td>\n",
       "      <td>2984</td>\n",
       "      <td>-569</td>\n",
       "      <td>2016-11-14</td>\n",
       "    </tr>\n",
       "    <tr>\n",
       "      <th>4</th>\n",
       "      <td>Oby Sorrel</td>\n",
       "      <td>USA</td>\n",
       "      <td>50% Dark Bites</td>\n",
       "      <td>3472</td>\n",
       "      <td>96</td>\n",
       "      <td>1123</td>\n",
       "      <td>2349</td>\n",
       "      <td>2016-11-15</td>\n",
       "    </tr>\n",
       "    <tr>\n",
       "      <th>...</th>\n",
       "      <td>...</td>\n",
       "      <td>...</td>\n",
       "      <td>...</td>\n",
       "      <td>...</td>\n",
       "      <td>...</td>\n",
       "      <td>...</td>\n",
       "      <td>...</td>\n",
       "      <td>...</td>\n",
       "    </tr>\n",
       "    <tr>\n",
       "      <th>295</th>\n",
       "      <td>Husein Augar</td>\n",
       "      <td>New Zealand</td>\n",
       "      <td>White Choc</td>\n",
       "      <td>4305</td>\n",
       "      <td>156</td>\n",
       "      <td>2051</td>\n",
       "      <td>2254</td>\n",
       "      <td>2017-09-02</td>\n",
       "    </tr>\n",
       "    <tr>\n",
       "      <th>296</th>\n",
       "      <td>Ram Mahesh</td>\n",
       "      <td>Canada</td>\n",
       "      <td>White Choc</td>\n",
       "      <td>5439</td>\n",
       "      <td>30</td>\n",
       "      <td>395</td>\n",
       "      <td>5045</td>\n",
       "      <td>2017-09-03</td>\n",
       "    </tr>\n",
       "    <tr>\n",
       "      <th>297</th>\n",
       "      <td>Gunar Cockshoot</td>\n",
       "      <td>India</td>\n",
       "      <td>White Choc</td>\n",
       "      <td>6300</td>\n",
       "      <td>42</td>\n",
       "      <td>552</td>\n",
       "      <td>5748</td>\n",
       "      <td>2017-09-04</td>\n",
       "    </tr>\n",
       "    <tr>\n",
       "      <th>298</th>\n",
       "      <td>Gigi Bohling</td>\n",
       "      <td>Australia</td>\n",
       "      <td>White Choc</td>\n",
       "      <td>7483</td>\n",
       "      <td>45</td>\n",
       "      <td>592</td>\n",
       "      <td>6891</td>\n",
       "      <td>2017-09-05</td>\n",
       "    </tr>\n",
       "    <tr>\n",
       "      <th>299</th>\n",
       "      <td>Gigi Bohling</td>\n",
       "      <td>New Zealand</td>\n",
       "      <td>White Choc</td>\n",
       "      <td>8813</td>\n",
       "      <td>21</td>\n",
       "      <td>276</td>\n",
       "      <td>8537</td>\n",
       "      <td>2017-09-06</td>\n",
       "    </tr>\n",
       "  </tbody>\n",
       "</table>\n",
       "<p>300 rows × 8 columns</p>\n",
       "</div>"
      ],
      "text/plain": [
       "        Sales Person    Geography         Product  Amount  Units TOTAL COST  \\\n",
       "0       Barr Faughny  New Zealand  50% Dark Bites    1057     54        632   \n",
       "1       Ches Bonnell    Australia  50% Dark Bites    1281     75        878   \n",
       "2       Ches Bonnell        India  50% Dark Bites    1932    369       4317   \n",
       "3    Gunar Cockshoot          USA  50% Dark Bites    2415    255       2984   \n",
       "4         Oby Sorrel          USA  50% Dark Bites    3472     96       1123   \n",
       "..               ...          ...             ...     ...    ...        ...   \n",
       "295     Husein Augar  New Zealand      White Choc    4305    156       2051   \n",
       "296       Ram Mahesh       Canada      White Choc    5439     30        395   \n",
       "297  Gunar Cockshoot        India      White Choc    6300     42        552   \n",
       "298     Gigi Bohling    Australia      White Choc    7483     45        592   \n",
       "299     Gigi Bohling  New Zealand      White Choc    8813     21        276   \n",
       "\n",
       "     PROFIT       Date  \n",
       "0       425 2016-11-11  \n",
       "1       404 2016-11-12  \n",
       "2     -2385 2016-11-13  \n",
       "3      -569 2016-11-14  \n",
       "4      2349 2016-11-15  \n",
       "..      ...        ...  \n",
       "295    2254 2017-09-02  \n",
       "296    5045 2017-09-03  \n",
       "297    5748 2017-09-04  \n",
       "298    6891 2017-09-05  \n",
       "299    8537 2017-09-06  \n",
       "\n",
       "[300 rows x 8 columns]"
      ]
     },
     "execution_count": 12,
     "metadata": {},
     "output_type": "execute_result"
    }
   ],
   "source": [
    "newdata = pd.read_excel(\"C:\\\\Users\\\\Acer\\\\Downloads\\\\benny sales data.xlsx\")\n",
    "newdata"
   ]
  },
  {
   "cell_type": "code",
   "execution_count": 13,
   "id": "a9342312",
   "metadata": {},
   "outputs": [
    {
     "name": "stdout",
     "output_type": "stream",
     "text": [
      "<class 'pandas.core.frame.DataFrame'>\n",
      "RangeIndex: 300 entries, 0 to 299\n",
      "Data columns (total 8 columns):\n",
      " #   Column        Non-Null Count  Dtype         \n",
      "---  ------        --------------  -----         \n",
      " 0   Sales Person  300 non-null    object        \n",
      " 1   Geography     300 non-null    object        \n",
      " 2   Product       300 non-null    object        \n",
      " 3   Amount        300 non-null    int64         \n",
      " 4   Units         300 non-null    int64         \n",
      " 5   TOTAL COST    300 non-null    object        \n",
      " 6   PROFIT        300 non-null    int64         \n",
      " 7   Date          300 non-null    datetime64[ns]\n",
      "dtypes: datetime64[ns](1), int64(3), object(4)\n",
      "memory usage: 18.9+ KB\n"
     ]
    }
   ],
   "source": [
    "newdata.info()"
   ]
  },
  {
   "cell_type": "code",
   "execution_count": 16,
   "id": "24979a63",
   "metadata": {},
   "outputs": [
    {
     "name": "stderr",
     "output_type": "stream",
     "text": [
      "C:\\Users\\Acer\\AppData\\Local\\Temp\\ipykernel_9772\\2416831841.py:1: SettingWithCopyWarning: \n",
      "A value is trying to be set on a copy of a slice from a DataFrame\n",
      "\n",
      "See the caveats in the documentation: https://pandas.pydata.org/pandas-docs/stable/user_guide/indexing.html#returning-a-view-versus-a-copy\n",
      "  newdata['TOTAL COST'][88] = 200\n"
     ]
    }
   ],
   "source": [
    "newdata['TOTAL COST'][88] = 200"
   ]
  },
  {
   "cell_type": "code",
   "execution_count": 17,
   "id": "6bbed17a",
   "metadata": {},
   "outputs": [],
   "source": [
    "newdata['TOTAL COST'] = newdata['TOTAL COST'].astype('int64')"
   ]
  },
  {
   "cell_type": "code",
   "execution_count": 18,
   "id": "00743e7a",
   "metadata": {},
   "outputs": [
    {
     "name": "stdout",
     "output_type": "stream",
     "text": [
      "<class 'pandas.core.frame.DataFrame'>\n",
      "RangeIndex: 300 entries, 0 to 299\n",
      "Data columns (total 8 columns):\n",
      " #   Column        Non-Null Count  Dtype         \n",
      "---  ------        --------------  -----         \n",
      " 0   Sales Person  300 non-null    object        \n",
      " 1   Geography     300 non-null    object        \n",
      " 2   Product       300 non-null    object        \n",
      " 3   Amount        300 non-null    int64         \n",
      " 4   Units         300 non-null    int64         \n",
      " 5   TOTAL COST    300 non-null    int64         \n",
      " 6   PROFIT        300 non-null    int64         \n",
      " 7   Date          300 non-null    datetime64[ns]\n",
      "dtypes: datetime64[ns](1), int64(4), object(3)\n",
      "memory usage: 18.9+ KB\n"
     ]
    }
   ],
   "source": [
    "newdata.info()"
   ]
  },
  {
   "cell_type": "code",
   "execution_count": 19,
   "id": "e278474d",
   "metadata": {},
   "outputs": [
    {
     "data": {
      "text/html": [
       "<div>\n",
       "<style scoped>\n",
       "    .dataframe tbody tr th:only-of-type {\n",
       "        vertical-align: middle;\n",
       "    }\n",
       "\n",
       "    .dataframe tbody tr th {\n",
       "        vertical-align: top;\n",
       "    }\n",
       "\n",
       "    .dataframe thead th {\n",
       "        text-align: right;\n",
       "    }\n",
       "</style>\n",
       "<table border=\"1\" class=\"dataframe\">\n",
       "  <thead>\n",
       "    <tr style=\"text-align: right;\">\n",
       "      <th></th>\n",
       "      <th>Sales Person</th>\n",
       "      <th>Geography</th>\n",
       "      <th>Product</th>\n",
       "      <th>Amount</th>\n",
       "      <th>Units</th>\n",
       "      <th>TOTAL COST</th>\n",
       "      <th>PROFIT</th>\n",
       "      <th>Date</th>\n",
       "    </tr>\n",
       "  </thead>\n",
       "  <tbody>\n",
       "    <tr>\n",
       "      <th>219</th>\n",
       "      <td>Barr Faughny</td>\n",
       "      <td>Canada</td>\n",
       "      <td>Organic Choco Syrup</td>\n",
       "      <td>798</td>\n",
       "      <td>519</td>\n",
       "      <td>8683</td>\n",
       "      <td>-7885</td>\n",
       "      <td>2017-06-18</td>\n",
       "    </tr>\n",
       "    <tr>\n",
       "      <th>17</th>\n",
       "      <td>Ram Mahesh</td>\n",
       "      <td>USA</td>\n",
       "      <td>70% Dark Bites</td>\n",
       "      <td>2275</td>\n",
       "      <td>447</td>\n",
       "      <td>6477</td>\n",
       "      <td>-4202</td>\n",
       "      <td>2016-11-28</td>\n",
       "    </tr>\n",
       "    <tr>\n",
       "      <th>8</th>\n",
       "      <td>Oby Sorrel</td>\n",
       "      <td>Australia</td>\n",
       "      <td>50% Dark Bites</td>\n",
       "      <td>5586</td>\n",
       "      <td>525</td>\n",
       "      <td>6143</td>\n",
       "      <td>-557</td>\n",
       "      <td>2016-11-19</td>\n",
       "    </tr>\n",
       "    <tr>\n",
       "      <th>287</th>\n",
       "      <td>Barr Faughny</td>\n",
       "      <td>UK</td>\n",
       "      <td>White Choc</td>\n",
       "      <td>1785</td>\n",
       "      <td>462</td>\n",
       "      <td>6075</td>\n",
       "      <td>-4290</td>\n",
       "      <td>2017-08-25</td>\n",
       "    </tr>\n",
       "    <tr>\n",
       "      <th>288</th>\n",
       "      <td>Curtice Advani</td>\n",
       "      <td>UK</td>\n",
       "      <td>White Choc</td>\n",
       "      <td>2100</td>\n",
       "      <td>414</td>\n",
       "      <td>5444</td>\n",
       "      <td>-3344</td>\n",
       "      <td>2017-08-26</td>\n",
       "    </tr>\n",
       "    <tr>\n",
       "      <th>...</th>\n",
       "      <td>...</td>\n",
       "      <td>...</td>\n",
       "      <td>...</td>\n",
       "      <td>...</td>\n",
       "      <td>...</td>\n",
       "      <td>...</td>\n",
       "      <td>...</td>\n",
       "      <td>...</td>\n",
       "    </tr>\n",
       "    <tr>\n",
       "      <th>91</th>\n",
       "      <td>Curtice Advani</td>\n",
       "      <td>New Zealand</td>\n",
       "      <td>Baker's Choco Chips</td>\n",
       "      <td>6818</td>\n",
       "      <td>6</td>\n",
       "      <td>34</td>\n",
       "      <td>6784</td>\n",
       "      <td>2017-02-10</td>\n",
       "    </tr>\n",
       "    <tr>\n",
       "      <th>60</th>\n",
       "      <td>Carla Molina</td>\n",
       "      <td>Australia</td>\n",
       "      <td>After Nines</td>\n",
       "      <td>5915</td>\n",
       "      <td>3</td>\n",
       "      <td>29</td>\n",
       "      <td>5886</td>\n",
       "      <td>2017-01-10</td>\n",
       "    </tr>\n",
       "    <tr>\n",
       "      <th>137</th>\n",
       "      <td>Husein Augar</td>\n",
       "      <td>Australia</td>\n",
       "      <td>Eclairs</td>\n",
       "      <td>2408</td>\n",
       "      <td>9</td>\n",
       "      <td>28</td>\n",
       "      <td>2380</td>\n",
       "      <td>2017-03-28</td>\n",
       "    </tr>\n",
       "    <tr>\n",
       "      <th>128</th>\n",
       "      <td>Gigi Bohling</td>\n",
       "      <td>Canada</td>\n",
       "      <td>Drinking Coco</td>\n",
       "      <td>6111</td>\n",
       "      <td>3</td>\n",
       "      <td>19</td>\n",
       "      <td>6092</td>\n",
       "      <td>2017-03-19</td>\n",
       "    </tr>\n",
       "    <tr>\n",
       "      <th>30</th>\n",
       "      <td>Curtice Advani</td>\n",
       "      <td>UK</td>\n",
       "      <td>85% Dark Bars</td>\n",
       "      <td>2989</td>\n",
       "      <td>3</td>\n",
       "      <td>15</td>\n",
       "      <td>2974</td>\n",
       "      <td>2016-12-11</td>\n",
       "    </tr>\n",
       "  </tbody>\n",
       "</table>\n",
       "<p>300 rows × 8 columns</p>\n",
       "</div>"
      ],
      "text/plain": [
       "       Sales Person    Geography              Product  Amount  Units  \\\n",
       "219    Barr Faughny       Canada  Organic Choco Syrup     798    519   \n",
       "17       Ram Mahesh          USA       70% Dark Bites    2275    447   \n",
       "8        Oby Sorrel    Australia       50% Dark Bites    5586    525   \n",
       "287    Barr Faughny           UK           White Choc    1785    462   \n",
       "288  Curtice Advani           UK           White Choc    2100    414   \n",
       "..              ...          ...                  ...     ...    ...   \n",
       "91   Curtice Advani  New Zealand  Baker's Choco Chips    6818      6   \n",
       "60     Carla Molina    Australia          After Nines    5915      3   \n",
       "137    Husein Augar    Australia              Eclairs    2408      9   \n",
       "128    Gigi Bohling       Canada        Drinking Coco    6111      3   \n",
       "30   Curtice Advani           UK        85% Dark Bars    2989      3   \n",
       "\n",
       "     TOTAL COST  PROFIT       Date  \n",
       "219        8683   -7885 2017-06-18  \n",
       "17         6477   -4202 2016-11-28  \n",
       "8          6143    -557 2016-11-19  \n",
       "287        6075   -4290 2017-08-25  \n",
       "288        5444   -3344 2017-08-26  \n",
       "..          ...     ...        ...  \n",
       "91           34    6784 2017-02-10  \n",
       "60           29    5886 2017-01-10  \n",
       "137          28    2380 2017-03-28  \n",
       "128          19    6092 2017-03-19  \n",
       "30           15    2974 2016-12-11  \n",
       "\n",
       "[300 rows x 8 columns]"
      ]
     },
     "execution_count": 19,
     "metadata": {},
     "output_type": "execute_result"
    }
   ],
   "source": [
    "newdata.sort_values(by= 'TOTAL COST', ascending = False)"
   ]
  },
  {
   "cell_type": "code",
   "execution_count": 51,
   "id": "1a49a6de",
   "metadata": {},
   "outputs": [
    {
     "name": "stderr",
     "output_type": "stream",
     "text": [
      "C:\\Users\\Acer\\AppData\\Local\\Temp\\ipykernel_7568\\2416831841.py:1: SettingWithCopyWarning: \n",
      "A value is trying to be set on a copy of a slice from a DataFrame\n",
      "\n",
      "See the caveats in the documentation: https://pandas.pydata.org/pandas-docs/stable/user_guide/indexing.html#returning-a-view-versus-a-copy\n",
      "  newdata['TOTAL COST'][88] = 200\n"
     ]
    }
   ],
   "source": [
    "newdata['TOTAL COST'][88] = 200"
   ]
  },
  {
   "cell_type": "code",
   "execution_count": 20,
   "id": "0bd3010a",
   "metadata": {},
   "outputs": [
    {
     "data": {
      "text/plain": [
       "200"
      ]
     },
     "execution_count": 20,
     "metadata": {},
     "output_type": "execute_result"
    }
   ],
   "source": [
    "newdata['TOTAL COST'][88]"
   ]
  },
  {
   "cell_type": "code",
   "execution_count": 21,
   "id": "411b4041",
   "metadata": {},
   "outputs": [
    {
     "data": {
      "text/plain": [
       "0       632\n",
       "1       878\n",
       "2      4317\n",
       "3      2984\n",
       "4      1123\n",
       "       ... \n",
       "295    2051\n",
       "296     395\n",
       "297     552\n",
       "298     592\n",
       "299     276\n",
       "Name: TOTAL COST, Length: 300, dtype: int64"
      ]
     },
     "execution_count": 21,
     "metadata": {},
     "output_type": "execute_result"
    }
   ],
   "source": [
    "pd.to_numeric(newdata['TOTAL COST'])"
   ]
  },
  {
   "cell_type": "code",
   "execution_count": 22,
   "id": "b200fad3",
   "metadata": {},
   "outputs": [
    {
     "name": "stdout",
     "output_type": "stream",
     "text": [
      "<class 'pandas.core.series.Series'>\n",
      "RangeIndex: 300 entries, 0 to 299\n",
      "Series name: TOTAL COST\n",
      "Non-Null Count  Dtype\n",
      "--------------  -----\n",
      "300 non-null    int64\n",
      "dtypes: int64(1)\n",
      "memory usage: 2.5 KB\n"
     ]
    }
   ],
   "source": [
    "newdata['TOTAL COST'].info()"
   ]
  },
  {
   "cell_type": "code",
   "execution_count": 24,
   "id": "073b657a",
   "metadata": {},
   "outputs": [],
   "source": [
    "month = pd.DatetimeIndex(newdata.Date).month\n",
    "weekday = pd.DatetimeIndex(newdata.Date).weekday"
   ]
  },
  {
   "cell_type": "code",
   "execution_count": 25,
   "id": "43ee08f7",
   "metadata": {},
   "outputs": [],
   "source": [
    "newdata['month'] = month\n",
    "newdata['weekday'] = weekday"
   ]
  },
  {
   "cell_type": "code",
   "execution_count": 26,
   "id": "3fc4ac8a",
   "metadata": {},
   "outputs": [
    {
     "data": {
      "text/html": [
       "<div>\n",
       "<style scoped>\n",
       "    .dataframe tbody tr th:only-of-type {\n",
       "        vertical-align: middle;\n",
       "    }\n",
       "\n",
       "    .dataframe tbody tr th {\n",
       "        vertical-align: top;\n",
       "    }\n",
       "\n",
       "    .dataframe thead th {\n",
       "        text-align: right;\n",
       "    }\n",
       "</style>\n",
       "<table border=\"1\" class=\"dataframe\">\n",
       "  <thead>\n",
       "    <tr style=\"text-align: right;\">\n",
       "      <th></th>\n",
       "      <th>Amount</th>\n",
       "      <th>Units</th>\n",
       "      <th>TOTAL COST</th>\n",
       "      <th>PROFIT</th>\n",
       "      <th>month</th>\n",
       "      <th>weekday</th>\n",
       "    </tr>\n",
       "  </thead>\n",
       "  <tbody>\n",
       "    <tr>\n",
       "      <th>count</th>\n",
       "      <td>300.000000</td>\n",
       "      <td>300.000000</td>\n",
       "      <td>300.000000</td>\n",
       "      <td>300.000000</td>\n",
       "      <td>300.000000</td>\n",
       "      <td>300.000000</td>\n",
       "    </tr>\n",
       "    <tr>\n",
       "      <th>mean</th>\n",
       "      <td>4136.230000</td>\n",
       "      <td>152.200000</td>\n",
       "      <td>1466.370000</td>\n",
       "      <td>2670.550000</td>\n",
       "      <td>5.820000</td>\n",
       "      <td>3.000000</td>\n",
       "    </tr>\n",
       "    <tr>\n",
       "      <th>std</th>\n",
       "      <td>3124.832629</td>\n",
       "      <td>118.099499</td>\n",
       "      <td>1362.976909</td>\n",
       "      <td>3389.964631</td>\n",
       "      <td>3.405818</td>\n",
       "      <td>2.006678</td>\n",
       "    </tr>\n",
       "    <tr>\n",
       "      <th>min</th>\n",
       "      <td>0.000000</td>\n",
       "      <td>0.000000</td>\n",
       "      <td>15.000000</td>\n",
       "      <td>-7885.000000</td>\n",
       "      <td>1.000000</td>\n",
       "      <td>0.000000</td>\n",
       "    </tr>\n",
       "    <tr>\n",
       "      <th>25%</th>\n",
       "      <td>1652.000000</td>\n",
       "      <td>54.000000</td>\n",
       "      <td>487.000000</td>\n",
       "      <td>199.000000</td>\n",
       "      <td>3.000000</td>\n",
       "      <td>1.000000</td>\n",
       "    </tr>\n",
       "    <tr>\n",
       "      <th>50%</th>\n",
       "      <td>3437.000000</td>\n",
       "      <td>124.500000</td>\n",
       "      <td>1079.000000</td>\n",
       "      <td>2314.500000</td>\n",
       "      <td>5.000000</td>\n",
       "      <td>3.000000</td>\n",
       "    </tr>\n",
       "    <tr>\n",
       "      <th>75%</th>\n",
       "      <td>6179.250000</td>\n",
       "      <td>220.500000</td>\n",
       "      <td>2016.750000</td>\n",
       "      <td>4722.750000</td>\n",
       "      <td>8.000000</td>\n",
       "      <td>5.000000</td>\n",
       "    </tr>\n",
       "    <tr>\n",
       "      <th>max</th>\n",
       "      <td>16184.000000</td>\n",
       "      <td>525.000000</td>\n",
       "      <td>8683.000000</td>\n",
       "      <td>15841.000000</td>\n",
       "      <td>12.000000</td>\n",
       "      <td>6.000000</td>\n",
       "    </tr>\n",
       "  </tbody>\n",
       "</table>\n",
       "</div>"
      ],
      "text/plain": [
       "             Amount       Units   TOTAL COST        PROFIT       month  \\\n",
       "count    300.000000  300.000000   300.000000    300.000000  300.000000   \n",
       "mean    4136.230000  152.200000  1466.370000   2670.550000    5.820000   \n",
       "std     3124.832629  118.099499  1362.976909   3389.964631    3.405818   \n",
       "min        0.000000    0.000000    15.000000  -7885.000000    1.000000   \n",
       "25%     1652.000000   54.000000   487.000000    199.000000    3.000000   \n",
       "50%     3437.000000  124.500000  1079.000000   2314.500000    5.000000   \n",
       "75%     6179.250000  220.500000  2016.750000   4722.750000    8.000000   \n",
       "max    16184.000000  525.000000  8683.000000  15841.000000   12.000000   \n",
       "\n",
       "          weekday  \n",
       "count  300.000000  \n",
       "mean     3.000000  \n",
       "std      2.006678  \n",
       "min      0.000000  \n",
       "25%      1.000000  \n",
       "50%      3.000000  \n",
       "75%      5.000000  \n",
       "max      6.000000  "
      ]
     },
     "execution_count": 26,
     "metadata": {},
     "output_type": "execute_result"
    }
   ],
   "source": [
    "newdata.describe()"
   ]
  },
  {
   "cell_type": "code",
   "execution_count": 32,
   "id": "73a276b1",
   "metadata": {},
   "outputs": [
    {
     "data": {
      "image/png": "[encoded data removed]",
      "text/plain": [
       "<Figure size 432x288 with 1 Axes>"
      ]
     },
     "metadata": {
      "needs_background": "light"
     },
     "output_type": "display_data"
    }
   ],
   "source": [
    "plt.hist(newdata.month, bins=12, edgecolor='red')\n",
    "plt.xticks([1,2,3,4,5,6,7,8,9,10,11,12]);"
   ]
  },
  {
   "cell_type": "code",
   "execution_count": 48,
   "id": "2cc28c3b",
   "metadata": {},
   "outputs": [
    {
     "data": {
      "image/png": "[encoded data removed]",
      "text/plain": [
       "<Figure size 432x288 with 1 Axes>"
      ]
     },
     "metadata": {
      "needs_background": "light"
     },
     "output_type": "display_data"
    }
   ],
   "source": [
    "plt.hist([newdata.month, newdata.weekday], bins=12, width=0.6, edgecolor='black');\n",
    "    "
   ]
  },
  {
   "cell_type": "code",
   "execution_count": 127,
   "id": "80f33680",
   "metadata": {},
   "outputs": [
    {
     "data": {
      "text/html": [
       "<div>\n",
       "<style scoped>\n",
       "    .dataframe tbody tr th:only-of-type {\n",
       "        vertical-align: middle;\n",
       "    }\n",
       "\n",
       "    .dataframe tbody tr th {\n",
       "        vertical-align: top;\n",
       "    }\n",
       "\n",
       "    .dataframe thead th {\n",
       "        text-align: right;\n",
       "    }\n",
       "</style>\n",
       "<table border=\"1\" class=\"dataframe\">\n",
       "  <thead>\n",
       "    <tr style=\"text-align: right;\">\n",
       "      <th></th>\n",
       "      <th>Sales Person</th>\n",
       "      <th>Geography</th>\n",
       "      <th>Product</th>\n",
       "      <th>Amount</th>\n",
       "      <th>Units</th>\n",
       "      <th>TOTAL COST</th>\n",
       "      <th>PROFIT</th>\n",
       "      <th>Date</th>\n",
       "      <th>month</th>\n",
       "      <th>weekday</th>\n",
       "    </tr>\n",
       "  </thead>\n",
       "  <tbody>\n",
       "    <tr>\n",
       "      <th>0</th>\n",
       "      <td>Barr Faughny</td>\n",
       "      <td>New Zealand</td>\n",
       "      <td>50% Dark Bites</td>\n",
       "      <td>1057</td>\n",
       "      <td>54</td>\n",
       "      <td>632</td>\n",
       "      <td>425</td>\n",
       "      <td>2016-11-11</td>\n",
       "      <td>11</td>\n",
       "      <td>4</td>\n",
       "    </tr>\n",
       "    <tr>\n",
       "      <th>1</th>\n",
       "      <td>Ches Bonnell</td>\n",
       "      <td>Australia</td>\n",
       "      <td>50% Dark Bites</td>\n",
       "      <td>1281</td>\n",
       "      <td>75</td>\n",
       "      <td>878</td>\n",
       "      <td>404</td>\n",
       "      <td>2016-11-12</td>\n",
       "      <td>11</td>\n",
       "      <td>5</td>\n",
       "    </tr>\n",
       "    <tr>\n",
       "      <th>2</th>\n",
       "      <td>Ches Bonnell</td>\n",
       "      <td>India</td>\n",
       "      <td>50% Dark Bites</td>\n",
       "      <td>1932</td>\n",
       "      <td>369</td>\n",
       "      <td>4317</td>\n",
       "      <td>-2385</td>\n",
       "      <td>2016-11-13</td>\n",
       "      <td>11</td>\n",
       "      <td>6</td>\n",
       "    </tr>\n",
       "    <tr>\n",
       "      <th>3</th>\n",
       "      <td>Gunar Cockshoot</td>\n",
       "      <td>USA</td>\n",
       "      <td>50% Dark Bites</td>\n",
       "      <td>2415</td>\n",
       "      <td>255</td>\n",
       "      <td>2984</td>\n",
       "      <td>-569</td>\n",
       "      <td>2016-11-14</td>\n",
       "      <td>11</td>\n",
       "      <td>0</td>\n",
       "    </tr>\n",
       "    <tr>\n",
       "      <th>4</th>\n",
       "      <td>Oby Sorrel</td>\n",
       "      <td>USA</td>\n",
       "      <td>50% Dark Bites</td>\n",
       "      <td>3472</td>\n",
       "      <td>96</td>\n",
       "      <td>1123</td>\n",
       "      <td>2349</td>\n",
       "      <td>2016-11-15</td>\n",
       "      <td>11</td>\n",
       "      <td>1</td>\n",
       "    </tr>\n",
       "    <tr>\n",
       "      <th>...</th>\n",
       "      <td>...</td>\n",
       "      <td>...</td>\n",
       "      <td>...</td>\n",
       "      <td>...</td>\n",
       "      <td>...</td>\n",
       "      <td>...</td>\n",
       "      <td>...</td>\n",
       "      <td>...</td>\n",
       "      <td>...</td>\n",
       "      <td>...</td>\n",
       "    </tr>\n",
       "    <tr>\n",
       "      <th>295</th>\n",
       "      <td>Husein Augar</td>\n",
       "      <td>New Zealand</td>\n",
       "      <td>White Choc</td>\n",
       "      <td>4305</td>\n",
       "      <td>156</td>\n",
       "      <td>2051</td>\n",
       "      <td>2254</td>\n",
       "      <td>2017-09-02</td>\n",
       "      <td>9</td>\n",
       "      <td>5</td>\n",
       "    </tr>\n",
       "    <tr>\n",
       "      <th>296</th>\n",
       "      <td>Ram Mahesh</td>\n",
       "      <td>Canada</td>\n",
       "      <td>White Choc</td>\n",
       "      <td>5439</td>\n",
       "      <td>30</td>\n",
       "      <td>395</td>\n",
       "      <td>5045</td>\n",
       "      <td>2017-09-03</td>\n",
       "      <td>9</td>\n",
       "      <td>6</td>\n",
       "    </tr>\n",
       "    <tr>\n",
       "      <th>297</th>\n",
       "      <td>Gunar Cockshoot</td>\n",
       "      <td>India</td>\n",
       "      <td>White Choc</td>\n",
       "      <td>6300</td>\n",
       "      <td>42</td>\n",
       "      <td>552</td>\n",
       "      <td>5748</td>\n",
       "      <td>2017-09-04</td>\n",
       "      <td>9</td>\n",
       "      <td>0</td>\n",
       "    </tr>\n",
       "    <tr>\n",
       "      <th>298</th>\n",
       "      <td>Gigi Bohling</td>\n",
       "      <td>Australia</td>\n",
       "      <td>White Choc</td>\n",
       "      <td>7483</td>\n",
       "      <td>45</td>\n",
       "      <td>592</td>\n",
       "      <td>6891</td>\n",
       "      <td>2017-09-05</td>\n",
       "      <td>9</td>\n",
       "      <td>1</td>\n",
       "    </tr>\n",
       "    <tr>\n",
       "      <th>299</th>\n",
       "      <td>Gigi Bohling</td>\n",
       "      <td>New Zealand</td>\n",
       "      <td>White Choc</td>\n",
       "      <td>8813</td>\n",
       "      <td>21</td>\n",
       "      <td>276</td>\n",
       "      <td>8537</td>\n",
       "      <td>2017-09-06</td>\n",
       "      <td>9</td>\n",
       "      <td>2</td>\n",
       "    </tr>\n",
       "  </tbody>\n",
       "</table>\n",
       "<p>300 rows × 10 columns</p>\n",
       "</div>"
      ],
      "text/plain": [
       "        Sales Person    Geography         Product  Amount  Units  TOTAL COST  \\\n",
       "0       Barr Faughny  New Zealand  50% Dark Bites    1057     54         632   \n",
       "1       Ches Bonnell    Australia  50% Dark Bites    1281     75         878   \n",
       "2       Ches Bonnell        India  50% Dark Bites    1932    369        4317   \n",
       "3    Gunar Cockshoot          USA  50% Dark Bites    2415    255        2984   \n",
       "4         Oby Sorrel          USA  50% Dark Bites    3472     96        1123   \n",
       "..               ...          ...             ...     ...    ...         ...   \n",
       "295     Husein Augar  New Zealand      White Choc    4305    156        2051   \n",
       "296       Ram Mahesh       Canada      White Choc    5439     30         395   \n",
       "297  Gunar Cockshoot        India      White Choc    6300     42         552   \n",
       "298     Gigi Bohling    Australia      White Choc    7483     45         592   \n",
       "299     Gigi Bohling  New Zealand      White Choc    8813     21         276   \n",
       "\n",
       "     PROFIT       Date  month  weekday  \n",
       "0       425 2016-11-11     11        4  \n",
       "1       404 2016-11-12     11        5  \n",
       "2     -2385 2016-11-13     11        6  \n",
       "3      -569 2016-11-14     11        0  \n",
       "4      2349 2016-11-15     11        1  \n",
       "..      ...        ...    ...      ...  \n",
       "295    2254 2017-09-02      9        5  \n",
       "296    5045 2017-09-03      9        6  \n",
       "297    5748 2017-09-04      9        0  \n",
       "298    6891 2017-09-05      9        1  \n",
       "299    8537 2017-09-06      9        2  \n",
       "\n",
       "[300 rows x 10 columns]"
      ]
     },
     "execution_count": 127,
     "metadata": {},
     "output_type": "execute_result"
    }
   ],
   "source": [
    "newdata"
   ]
  },
  {
   "cell_type": "code",
   "execution_count": 51,
   "id": "4f341be4",
   "metadata": {},
   "outputs": [
    {
     "data": {
      "image/png": "[encoded data removed]",
      "text/plain": [
       "<Figure size 720x432 with 1 Axes>"
      ]
     },
     "metadata": {
      "needs_background": "light"
     },
     "output_type": "display_data"
    }
   ],
   "source": [
    "plt.figure(figsize=(10,6))\n",
    "plt.bar(newdata.Geography, newdata.Amount, color='green')\n",
    "plt.bar(newdata.Geography, newdata['TOTAL COST'], color='yellow');\n",
    "plt.grid(True)"
   ]
  },
  {
   "cell_type": "code",
   "execution_count": 167,
   "id": "9e53443d",
   "metadata": {},
   "outputs": [
    {
     "data": {
      "text/html": [
       "<div>\n",
       "<style scoped>\n",
       "    .dataframe tbody tr th:only-of-type {\n",
       "        vertical-align: middle;\n",
       "    }\n",
       "\n",
       "    .dataframe tbody tr th {\n",
       "        vertical-align: top;\n",
       "    }\n",
       "\n",
       "    .dataframe thead th {\n",
       "        text-align: right;\n",
       "    }\n",
       "</style>\n",
       "<table border=\"1\" class=\"dataframe\">\n",
       "  <thead>\n",
       "    <tr style=\"text-align: right;\">\n",
       "      <th></th>\n",
       "      <th>Amount</th>\n",
       "    </tr>\n",
       "    <tr>\n",
       "      <th>Geography</th>\n",
       "      <th></th>\n",
       "    </tr>\n",
       "  </thead>\n",
       "  <tbody>\n",
       "    <tr>\n",
       "      <th>Australia</th>\n",
       "      <td>168679</td>\n",
       "    </tr>\n",
       "    <tr>\n",
       "      <th>Canada</th>\n",
       "      <td>237944</td>\n",
       "    </tr>\n",
       "    <tr>\n",
       "      <th>India</th>\n",
       "      <td>252469</td>\n",
       "    </tr>\n",
       "    <tr>\n",
       "      <th>New Zealand</th>\n",
       "      <td>218813</td>\n",
       "    </tr>\n",
       "    <tr>\n",
       "      <th>UK</th>\n",
       "      <td>173530</td>\n",
       "    </tr>\n",
       "    <tr>\n",
       "      <th>USA</th>\n",
       "      <td>189434</td>\n",
       "    </tr>\n",
       "  </tbody>\n",
       "</table>\n",
       "</div>"
      ],
      "text/plain": [
       "             Amount\n",
       "Geography          \n",
       "Australia    168679\n",
       "Canada       237944\n",
       "India        252469\n",
       "New Zealand  218813\n",
       "UK           173530\n",
       "USA          189434"
      ]
     },
     "execution_count": 167,
     "metadata": {},
     "output_type": "execute_result"
    }
   ],
   "source": [
    "newdata[['Geography', 'Amount']].groupby('Geography').sum()"
   ]
  },
  {
   "cell_type": "code",
   "execution_count": 99,
   "id": "250ba565",
   "metadata": {},
   "outputs": [
    {
     "name": "stderr",
     "output_type": "stream",
     "text": [
      "C:\\Users\\Acer\\AppData\\Local\\Programs\\Python\\Python310\\lib\\site-packages\\seaborn\\_decorators.py:36: FutureWarning: Pass the following variables as keyword args: x, y. From version 0.12, the only valid positional argument will be `data`, and passing other arguments without an explicit keyword will result in an error or misinterpretation.\n",
      "  warnings.warn(\n"
     ]
    },
    {
     "data": {
      "image/png": "[encoded data removed]",
      "text/plain": [
       "<Figure size 1008x576 with 6 Axes>"
      ]
     },
     "metadata": {},
     "output_type": "display_data"
    }
   ],
   "source": [
    "fig, axes = plt.subplots(2,3, figsize=(14,8))\n",
    "axes[0,0].bar(newdata.Geography, newdata.Amount)\n",
    "axes[0,0].set_ylabel('Amount')\n",
    "axes[0,1].plot(dataset.ben)\n",
    "axes[0,2].hist(newdata.month, bins=12, edgecolor='red');\n",
    "axes[0,2].set_xlabel('months')\n",
    "sns.set_style('darkgrid')\n",
    "sns.scatterplot(newdata.month, newdata.weekday, hue= newdata.Geography, s=40, ax=axes[1,0]);\n",
    "\n",
    "plt.tight_layout(pad=3);"
   ]
  },
  {
   "cell_type": "code",
   "execution_count": 96,
   "id": "0f15e797",
   "metadata": {},
   "outputs": [
    {
     "name": "stderr",
     "output_type": "stream",
     "text": [
      "C:\\Users\\Acer\\AppData\\Local\\Programs\\Python\\Python310\\lib\\site-packages\\seaborn\\_decorators.py:36: FutureWarning: Pass the following variables as keyword args: x, y. From version 0.12, the only valid positional argument will be `data`, and passing other arguments without an explicit keyword will result in an error or misinterpretation.\n",
      "  warnings.warn(\n"
     ]
    },
    {
     "data": {
      "image/png": "[encoded data removed]",
      "text/plain": [
       "<Figure size 864x432 with 1 Axes>"
      ]
     },
     "metadata": {},
     "output_type": "display_data"
    }
   ],
   "source": [
    "sns.set_style('darkgrid')\n",
    "plt.figure(figsize=(12,6))\n",
    "sns.scatterplot('month', 'weekday', hue='Geography', data=newdata, s=40);\n",
    "\n"
   ]
  },
  {
   "cell_type": "code",
   "execution_count": 100,
   "id": "6bb70782",
   "metadata": {},
   "outputs": [
    {
     "name": "stderr",
     "output_type": "stream",
     "text": [
      "C:\\Users\\Acer\\AppData\\Local\\Programs\\Python\\Python310\\lib\\site-packages\\seaborn\\_decorators.py:36: FutureWarning: Pass the following variables as keyword args: x, y. From version 0.12, the only valid positional argument will be `data`, and passing other arguments without an explicit keyword will result in an error or misinterpretation.\n",
      "  warnings.warn(\n"
     ]
    },
    {
     "data": {
      "text/plain": [
       "<AxesSubplot:xlabel='Geography', ylabel='Amount'>"
      ]
     },
     "execution_count": 100,
     "metadata": {},
     "output_type": "execute_result"
    },
    {
     "data": {
      "image/png": "[encoded data removed]",
      "text/plain": [
       "<Figure size 432x288 with 1 Axes>"
      ]
     },
     "metadata": {},
     "output_type": "display_data"
    }
   ],
   "source": [
    "sns.barplot('Geography', 'Amount', data=newdata)"
   ]
  },
  {
   "cell_type": "code",
   "execution_count": null,
   "id": "8573c199",
   "metadata": {},
   "outputs": [],
   "source": []
  }
 ],
 "metadata": {
  "kernelspec": {
   "display_name": "Python 3 (ipykernel)",
   "language": "python",
   "name": "python3"
  },
  "language_info": {
   "codemirror_mode": {
    "name": "ipython",
    "version": 3
   },
   "file_extension": ".py",
   "mimetype": "text/x-python",
   "name": "python",
   "nbconvert_exporter": "python",
   "pygments_lexer": "ipython3",
   "version": "3.10.4"
  }
 },
 "nbformat": 4,
 "nbformat_minor": 5
}
